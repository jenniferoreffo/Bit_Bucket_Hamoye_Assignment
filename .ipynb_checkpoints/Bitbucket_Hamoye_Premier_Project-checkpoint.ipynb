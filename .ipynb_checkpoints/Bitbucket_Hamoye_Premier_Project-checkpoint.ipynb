{
 "cells": [
  {
   "cell_type": "code",
   "execution_count": 3,
   "id": "26398e69",
   "metadata": {
    "ExecuteTime": {
     "end_time": "2022-12-10T22:49:59.848012Z",
     "start_time": "2022-12-10T22:49:59.839699Z"
    }
   },
   "outputs": [],
   "source": [
    "# !pip install opendatasets"
   ]
  },
  {
   "cell_type": "code",
   "execution_count": 4,
   "id": "4df2722f",
   "metadata": {
    "ExecuteTime": {
     "end_time": "2022-12-10T22:50:04.779347Z",
     "start_time": "2022-12-10T22:50:01.480431Z"
    }
   },
   "outputs": [],
   "source": [
    "import requests\n",
    "import os\n",
    "import opendatasets as od"
   ]
  },
  {
   "cell_type": "code",
   "execution_count": 5,
   "id": "8aa02bc3",
   "metadata": {
    "ExecuteTime": {
     "end_time": "2022-12-10T22:50:07.688267Z",
     "start_time": "2022-12-10T22:50:07.672160Z"
    }
   },
   "outputs": [],
   "source": [
    "download_url = \"https://www.kaggle.com/datasets/tmdb/tmdb-movie-metadata/download?datasetVersionNumber=2\"\n"
   ]
  },
  {
   "cell_type": "code",
   "execution_count": 6,
   "id": "7ec69246",
   "metadata": {
    "ExecuteTime": {
     "end_time": "2022-12-10T22:50:37.360034Z",
     "start_time": "2022-12-10T22:50:10.652962Z"
    }
   },
   "outputs": [
    {
     "name": "stdout",
     "output_type": "stream",
     "text": [
      "Please provide your Kaggle credentials to download this dataset. Learn more: http://bit.ly/kaggle-creds\n",
      "Your Kaggle username: wagatech\n",
      "Your Kaggle Key: ········\n",
      "Downloading tmdb-movie-metadata.zip to .\\tmdb-movie-metadata\n"
     ]
    },
    {
     "name": "stderr",
     "output_type": "stream",
     "text": [
      "100%|██████████████████████████████████████████████████████████████████████████████| 8.89M/8.89M [00:09<00:00, 989kB/s]\n"
     ]
    },
    {
     "name": "stdout",
     "output_type": "stream",
     "text": [
      "\n",
      "\n",
      "The file, tmdb-movie-metadata, has been downloaded into: D:\\Hamoye DS Internship\\Bit_Bucket_Hamoye_Assignment\n"
     ]
    }
   ],
   "source": [
    "current_directory = os.getcwd()\n",
    "file_name = download_url.split('/')[-2]\n",
    "od.download(download_url)\n",
    "print(f\"\\nThe file, {file_name}, has been downloaded into: {current_directory}\")"
   ]
  },
  {
   "cell_type": "code",
   "execution_count": null,
   "id": "28b71f8d",
   "metadata": {},
   "outputs": [],
   "source": []
  }
 ],
 "metadata": {
  "kernelspec": {
   "display_name": "Python 3 (ipykernel)",
   "language": "python",
   "name": "python3"
  },
  "language_info": {
   "codemirror_mode": {
    "name": "ipython",
    "version": 3
   },
   "file_extension": ".py",
   "mimetype": "text/x-python",
   "name": "python",
   "nbconvert_exporter": "python",
   "pygments_lexer": "ipython3",
   "version": "3.9.12"
  },
  "toc": {
   "base_numbering": 1,
   "nav_menu": {},
   "number_sections": true,
   "sideBar": true,
   "skip_h1_title": false,
   "title_cell": "Table of Contents",
   "title_sidebar": "Contents",
   "toc_cell": false,
   "toc_position": {
    "height": "calc(100% - 180px)",
    "left": "10px",
    "top": "150px",
    "width": "165px"
   },
   "toc_section_display": true,
   "toc_window_display": true
  },
  "varInspector": {
   "cols": {
    "lenName": 16,
    "lenType": 16,
    "lenVar": 40
   },
   "kernels_config": {
    "python": {
     "delete_cmd_postfix": "",
     "delete_cmd_prefix": "del ",
     "library": "var_list.py",
     "varRefreshCmd": "print(var_dic_list())"
    },
    "r": {
     "delete_cmd_postfix": ") ",
     "delete_cmd_prefix": "rm(",
     "library": "var_list.r",
     "varRefreshCmd": "cat(var_dic_list()) "
    }
   },
   "types_to_exclude": [
    "module",
    "function",
    "builtin_function_or_method",
    "instance",
    "_Feature"
   ],
   "window_display": false
  }
 },
 "nbformat": 4,
 "nbformat_minor": 5
}
