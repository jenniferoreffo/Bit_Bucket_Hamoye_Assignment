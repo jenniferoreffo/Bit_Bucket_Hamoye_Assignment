{
  "cells": [
    {
      "cell_type": "markdown",
      "metadata": {
        "id": "view-in-github",
        "colab_type": "text"
      },
      "source": [
        "<a href=\"https://colab.research.google.com/github/jenniferoreffo/Bit_Bucket_Hamoye_Assignment/blob/main/Movie_Recommendation_System.ipynb\" target=\"_parent\"><img src=\"https://colab.research.google.com/assets/colab-badge.svg\" alt=\"Open In Colab\"/></a>"
      ]
    },
    {
      "cell_type": "code",
      "execution_count": null,
      "id": "aeef80a4",
      "metadata": {
        "id": "aeef80a4"
      },
      "outputs": [],
      "source": [
        "import pandas as pd\n",
        "import numpy as np\n",
        "from sklearn.feature_extraction.text import TfidfVectorizer\n",
        "from sklearn.feature_extraction.text import CountVectorizer\n",
        "from sklearn.metrics.pairwise import cosine_similarity,euclidean_distances"
      ]
    },
    {
      "cell_type": "code",
      "execution_count": null,
      "id": "1588e2dd",
      "metadata": {
        "id": "1588e2dd",
        "outputId": "ed60ea42-0183-498f-81bb-1ff1d343193b"
      },
      "outputs": [
        {
          "data": {
            "text/html": [
              "<div>\n",
              "<style scoped>\n",
              "    .dataframe tbody tr th:only-of-type {\n",
              "        vertical-align: middle;\n",
              "    }\n",
              "\n",
              "    .dataframe tbody tr th {\n",
              "        vertical-align: top;\n",
              "    }\n",
              "\n",
              "    .dataframe thead th {\n",
              "        text-align: right;\n",
              "    }\n",
              "</style>\n",
              "<table border=\"1\" class=\"dataframe\">\n",
              "  <thead>\n",
              "    <tr style=\"text-align: right;\">\n",
              "      <th></th>\n",
              "      <th>budget</th>\n",
              "      <th>genres</th>\n",
              "      <th>homepage</th>\n",
              "      <th>id</th>\n",
              "      <th>keywords</th>\n",
              "      <th>original_language</th>\n",
              "      <th>original_title</th>\n",
              "      <th>overview</th>\n",
              "      <th>popularity</th>\n",
              "      <th>production_companies</th>\n",
              "      <th>production_countries</th>\n",
              "      <th>release_date</th>\n",
              "      <th>revenue</th>\n",
              "      <th>runtime</th>\n",
              "      <th>spoken_languages</th>\n",
              "      <th>status</th>\n",
              "      <th>tagline</th>\n",
              "      <th>title</th>\n",
              "      <th>vote_average</th>\n",
              "      <th>vote_count</th>\n",
              "    </tr>\n",
              "  </thead>\n",
              "  <tbody>\n",
              "    <tr>\n",
              "      <th>0</th>\n",
              "      <td>237000000</td>\n",
              "      <td>[{\"id\": 28, \"name\": \"Action\"}, {\"id\": 12, \"nam...</td>\n",
              "      <td>http://www.avatarmovie.com/</td>\n",
              "      <td>19995</td>\n",
              "      <td>[{\"id\": 1463, \"name\": \"culture clash\"}, {\"id\":...</td>\n",
              "      <td>en</td>\n",
              "      <td>Avatar</td>\n",
              "      <td>In the 22nd century, a paraplegic Marine is di...</td>\n",
              "      <td>150.437577</td>\n",
              "      <td>[{\"name\": \"Ingenious Film Partners\", \"id\": 289...</td>\n",
              "      <td>[{\"iso_3166_1\": \"US\", \"name\": \"United States o...</td>\n",
              "      <td>10/12/2009</td>\n",
              "      <td>2787965087</td>\n",
              "      <td>162.0</td>\n",
              "      <td>[{\"iso_639_1\": \"en\", \"name\": \"English\"}, {\"iso...</td>\n",
              "      <td>Released</td>\n",
              "      <td>Enter the World of Pandora.</td>\n",
              "      <td>Avatar</td>\n",
              "      <td>7.2</td>\n",
              "      <td>11800</td>\n",
              "    </tr>\n",
              "    <tr>\n",
              "      <th>1</th>\n",
              "      <td>300000000</td>\n",
              "      <td>[{\"id\": 12, \"name\": \"Adventure\"}, {\"id\": 14, \"...</td>\n",
              "      <td>http://disney.go.com/disneypictures/pirates/</td>\n",
              "      <td>285</td>\n",
              "      <td>[{\"id\": 270, \"name\": \"ocean\"}, {\"id\": 726, \"na...</td>\n",
              "      <td>en</td>\n",
              "      <td>Pirates of the Caribbean: At World's End</td>\n",
              "      <td>Captain Barbossa, long believed to be dead, ha...</td>\n",
              "      <td>139.082615</td>\n",
              "      <td>[{\"name\": \"Walt Disney Pictures\", \"id\": 2}, {\"...</td>\n",
              "      <td>[{\"iso_3166_1\": \"US\", \"name\": \"United States o...</td>\n",
              "      <td>19/05/2007</td>\n",
              "      <td>961000000</td>\n",
              "      <td>169.0</td>\n",
              "      <td>[{\"iso_639_1\": \"en\", \"name\": \"English\"}]</td>\n",
              "      <td>Released</td>\n",
              "      <td>At the end of the world, the adventure begins.</td>\n",
              "      <td>Pirates of the Caribbean: At World's End</td>\n",
              "      <td>6.9</td>\n",
              "      <td>4500</td>\n",
              "    </tr>\n",
              "    <tr>\n",
              "      <th>2</th>\n",
              "      <td>245000000</td>\n",
              "      <td>[{\"id\": 28, \"name\": \"Action\"}, {\"id\": 12, \"nam...</td>\n",
              "      <td>http://www.sonypictures.com/movies/spectre/</td>\n",
              "      <td>206647</td>\n",
              "      <td>[{\"id\": 470, \"name\": \"spy\"}, {\"id\": 818, \"name...</td>\n",
              "      <td>en</td>\n",
              "      <td>Spectre</td>\n",
              "      <td>A cryptic message from Bond’s past sends him o...</td>\n",
              "      <td>107.376788</td>\n",
              "      <td>[{\"name\": \"Columbia Pictures\", \"id\": 5}, {\"nam...</td>\n",
              "      <td>[{\"iso_3166_1\": \"GB\", \"name\": \"United Kingdom\"...</td>\n",
              "      <td>26/10/2015</td>\n",
              "      <td>880674609</td>\n",
              "      <td>148.0</td>\n",
              "      <td>[{\"iso_639_1\": \"fr\", \"name\": \"Fran\\u00e7ais\"},...</td>\n",
              "      <td>Released</td>\n",
              "      <td>A Plan No One Escapes</td>\n",
              "      <td>Spectre</td>\n",
              "      <td>6.3</td>\n",
              "      <td>4466</td>\n",
              "    </tr>\n",
              "    <tr>\n",
              "      <th>3</th>\n",
              "      <td>250000000</td>\n",
              "      <td>[{\"id\": 28, \"name\": \"Action\"}, {\"id\": 80, \"nam...</td>\n",
              "      <td>http://www.thedarkknightrises.com/</td>\n",
              "      <td>49026</td>\n",
              "      <td>[{\"id\": 849, \"name\": \"dc comics\"}, {\"id\": 853,...</td>\n",
              "      <td>en</td>\n",
              "      <td>The Dark Knight Rises</td>\n",
              "      <td>Following the death of District Attorney Harve...</td>\n",
              "      <td>112.312950</td>\n",
              "      <td>[{\"name\": \"Legendary Pictures\", \"id\": 923}, {\"...</td>\n",
              "      <td>[{\"iso_3166_1\": \"US\", \"name\": \"United States o...</td>\n",
              "      <td>16/07/2012</td>\n",
              "      <td>1084939099</td>\n",
              "      <td>165.0</td>\n",
              "      <td>[{\"iso_639_1\": \"en\", \"name\": \"English\"}]</td>\n",
              "      <td>Released</td>\n",
              "      <td>The Legend Ends</td>\n",
              "      <td>The Dark Knight Rises</td>\n",
              "      <td>7.6</td>\n",
              "      <td>9106</td>\n",
              "    </tr>\n",
              "    <tr>\n",
              "      <th>4</th>\n",
              "      <td>260000000</td>\n",
              "      <td>[{\"id\": 28, \"name\": \"Action\"}, {\"id\": 12, \"nam...</td>\n",
              "      <td>http://movies.disney.com/john-carter</td>\n",
              "      <td>49529</td>\n",
              "      <td>[{\"id\": 818, \"name\": \"based on novel\"}, {\"id\":...</td>\n",
              "      <td>en</td>\n",
              "      <td>John Carter</td>\n",
              "      <td>John Carter is a war-weary, former military ca...</td>\n",
              "      <td>43.926995</td>\n",
              "      <td>[{\"name\": \"Walt Disney Pictures\", \"id\": 2}]</td>\n",
              "      <td>[{\"iso_3166_1\": \"US\", \"name\": \"United States o...</td>\n",
              "      <td>07/03/2012</td>\n",
              "      <td>284139100</td>\n",
              "      <td>132.0</td>\n",
              "      <td>[{\"iso_639_1\": \"en\", \"name\": \"English\"}]</td>\n",
              "      <td>Released</td>\n",
              "      <td>Lost in our world, found in another.</td>\n",
              "      <td>John Carter</td>\n",
              "      <td>6.1</td>\n",
              "      <td>2124</td>\n",
              "    </tr>\n",
              "  </tbody>\n",
              "</table>\n",
              "</div>"
            ],
            "text/plain": [
              "      budget                                             genres  \\\n",
              "0  237000000  [{\"id\": 28, \"name\": \"Action\"}, {\"id\": 12, \"nam...   \n",
              "1  300000000  [{\"id\": 12, \"name\": \"Adventure\"}, {\"id\": 14, \"...   \n",
              "2  245000000  [{\"id\": 28, \"name\": \"Action\"}, {\"id\": 12, \"nam...   \n",
              "3  250000000  [{\"id\": 28, \"name\": \"Action\"}, {\"id\": 80, \"nam...   \n",
              "4  260000000  [{\"id\": 28, \"name\": \"Action\"}, {\"id\": 12, \"nam...   \n",
              "\n",
              "                                       homepage      id  \\\n",
              "0                   http://www.avatarmovie.com/   19995   \n",
              "1  http://disney.go.com/disneypictures/pirates/     285   \n",
              "2   http://www.sonypictures.com/movies/spectre/  206647   \n",
              "3            http://www.thedarkknightrises.com/   49026   \n",
              "4          http://movies.disney.com/john-carter   49529   \n",
              "\n",
              "                                            keywords original_language  \\\n",
              "0  [{\"id\": 1463, \"name\": \"culture clash\"}, {\"id\":...                en   \n",
              "1  [{\"id\": 270, \"name\": \"ocean\"}, {\"id\": 726, \"na...                en   \n",
              "2  [{\"id\": 470, \"name\": \"spy\"}, {\"id\": 818, \"name...                en   \n",
              "3  [{\"id\": 849, \"name\": \"dc comics\"}, {\"id\": 853,...                en   \n",
              "4  [{\"id\": 818, \"name\": \"based on novel\"}, {\"id\":...                en   \n",
              "\n",
              "                             original_title  \\\n",
              "0                                    Avatar   \n",
              "1  Pirates of the Caribbean: At World's End   \n",
              "2                                   Spectre   \n",
              "3                     The Dark Knight Rises   \n",
              "4                               John Carter   \n",
              "\n",
              "                                            overview  popularity  \\\n",
              "0  In the 22nd century, a paraplegic Marine is di...  150.437577   \n",
              "1  Captain Barbossa, long believed to be dead, ha...  139.082615   \n",
              "2  A cryptic message from Bond’s past sends him o...  107.376788   \n",
              "3  Following the death of District Attorney Harve...  112.312950   \n",
              "4  John Carter is a war-weary, former military ca...   43.926995   \n",
              "\n",
              "                                production_companies  \\\n",
              "0  [{\"name\": \"Ingenious Film Partners\", \"id\": 289...   \n",
              "1  [{\"name\": \"Walt Disney Pictures\", \"id\": 2}, {\"...   \n",
              "2  [{\"name\": \"Columbia Pictures\", \"id\": 5}, {\"nam...   \n",
              "3  [{\"name\": \"Legendary Pictures\", \"id\": 923}, {\"...   \n",
              "4        [{\"name\": \"Walt Disney Pictures\", \"id\": 2}]   \n",
              "\n",
              "                                production_countries release_date     revenue  \\\n",
              "0  [{\"iso_3166_1\": \"US\", \"name\": \"United States o...   10/12/2009  2787965087   \n",
              "1  [{\"iso_3166_1\": \"US\", \"name\": \"United States o...   19/05/2007   961000000   \n",
              "2  [{\"iso_3166_1\": \"GB\", \"name\": \"United Kingdom\"...   26/10/2015   880674609   \n",
              "3  [{\"iso_3166_1\": \"US\", \"name\": \"United States o...   16/07/2012  1084939099   \n",
              "4  [{\"iso_3166_1\": \"US\", \"name\": \"United States o...   07/03/2012   284139100   \n",
              "\n",
              "   runtime                                   spoken_languages    status  \\\n",
              "0    162.0  [{\"iso_639_1\": \"en\", \"name\": \"English\"}, {\"iso...  Released   \n",
              "1    169.0           [{\"iso_639_1\": \"en\", \"name\": \"English\"}]  Released   \n",
              "2    148.0  [{\"iso_639_1\": \"fr\", \"name\": \"Fran\\u00e7ais\"},...  Released   \n",
              "3    165.0           [{\"iso_639_1\": \"en\", \"name\": \"English\"}]  Released   \n",
              "4    132.0           [{\"iso_639_1\": \"en\", \"name\": \"English\"}]  Released   \n",
              "\n",
              "                                          tagline  \\\n",
              "0                     Enter the World of Pandora.   \n",
              "1  At the end of the world, the adventure begins.   \n",
              "2                           A Plan No One Escapes   \n",
              "3                                 The Legend Ends   \n",
              "4            Lost in our world, found in another.   \n",
              "\n",
              "                                      title  vote_average  vote_count  \n",
              "0                                    Avatar           7.2       11800  \n",
              "1  Pirates of the Caribbean: At World's End           6.9        4500  \n",
              "2                                   Spectre           6.3        4466  \n",
              "3                     The Dark Knight Rises           7.6        9106  \n",
              "4                               John Carter           6.1        2124  "
            ]
          },
          "execution_count": 2,
          "metadata": {},
          "output_type": "execute_result"
        }
      ],
      "source": [
        "movies = pd.read_csv('tmdb_5000_movies.csv')\n",
        "movies.head()"
      ]
    },
    {
      "cell_type": "code",
      "execution_count": null,
      "id": "ba541066",
      "metadata": {
        "id": "ba541066",
        "outputId": "62e0cdeb-db0e-418d-e1a1-15db75d19b73"
      },
      "outputs": [
        {
          "data": {
            "text/plain": [
              "budget                                                          237000000\n",
              "genres                  [{\"id\": 28, \"name\": \"Action\"}, {\"id\": 12, \"nam...\n",
              "homepage                                      http://www.avatarmovie.com/\n",
              "id                                                                  19995\n",
              "keywords                [{\"id\": 1463, \"name\": \"culture clash\"}, {\"id\":...\n",
              "original_language                                                      en\n",
              "original_title                                                     Avatar\n",
              "overview                In the 22nd century, a paraplegic Marine is di...\n",
              "popularity                                                     150.437577\n",
              "production_companies    [{\"name\": \"Ingenious Film Partners\", \"id\": 289...\n",
              "production_countries    [{\"iso_3166_1\": \"US\", \"name\": \"United States o...\n",
              "release_date                                                   10/12/2009\n",
              "revenue                                                        2787965087\n",
              "runtime                                                             162.0\n",
              "spoken_languages        [{\"iso_639_1\": \"en\", \"name\": \"English\"}, {\"iso...\n",
              "status                                                           Released\n",
              "tagline                                       Enter the World of Pandora.\n",
              "title                                                              Avatar\n",
              "vote_average                                                          7.2\n",
              "vote_count                                                          11800\n",
              "Name: 0, dtype: object"
            ]
          },
          "execution_count": 3,
          "metadata": {},
          "output_type": "execute_result"
        }
      ],
      "source": [
        "movies.iloc[0]"
      ]
    },
    {
      "cell_type": "code",
      "execution_count": null,
      "id": "35c2fa7b",
      "metadata": {
        "id": "35c2fa7b",
        "outputId": "ac287942-bda9-4d19-ebcb-8421e07f53ca"
      },
      "outputs": [
        {
          "data": {
            "text/plain": [
              "'[{\"id\": 1463, \"name\": \"culture clash\"}, {\"id\": 2964, \"name\": \"future\"}, {\"id\": 3386, \"name\": \"space war\"}, {\"id\": 3388, \"name\": \"space colony\"}, {\"id\": 3679, \"name\": \"society\"}, {\"id\": 3801, \"name\": \"space travel\"}, {\"id\": 9685, \"name\": \"futuristic\"}, {\"id\": 9840, \"name\": \"romance\"}, {\"id\": 9882, \"name\": \"space\"}, {\"id\": 9951, \"name\": \"alien\"}, {\"id\": 10148, \"name\": \"tribe\"}, {\"id\": 10158, \"name\": \"alien planet\"}, {\"id\": 10987, \"name\": \"cgi\"}, {\"id\": 11399, \"name\": \"marine\"}, {\"id\": 13065, \"name\": \"soldier\"}, {\"id\": 14643, \"name\": \"battle\"}, {\"id\": 14720, \"name\": \"love affair\"}, {\"id\": 165431, \"name\": \"anti war\"}, {\"id\": 193554, \"name\": \"power relations\"}, {\"id\": 206690, \"name\": \"mind and soul\"}, {\"id\": 209714, \"name\": \"3d\"}]'"
            ]
          },
          "execution_count": 4,
          "metadata": {},
          "output_type": "execute_result"
        }
      ],
      "source": [
        "movies['keywords'][0]"
      ]
    },
    {
      "cell_type": "code",
      "execution_count": null,
      "id": "9563d0bc",
      "metadata": {
        "id": "9563d0bc",
        "outputId": "d8266727-0b6c-4c34-d648-f257a4db73a7"
      },
      "outputs": [
        {
          "data": {
            "text/plain": [
              "'Enter the World of Pandora.'"
            ]
          },
          "execution_count": 5,
          "metadata": {},
          "output_type": "execute_result"
        }
      ],
      "source": [
        "movies['tagline'][0]"
      ]
    },
    {
      "cell_type": "code",
      "execution_count": null,
      "id": "0c7e62f4",
      "metadata": {
        "id": "0c7e62f4",
        "outputId": "e09dc499-4a73-498e-e64f-442b96a6b40c"
      },
      "outputs": [
        {
          "data": {
            "text/plain": [
              "'In the 22nd century, a paraplegic Marine is dispatched to the moon Pandora on a unique mission, but becomes torn between following orders and protecting an alien civilization.'"
            ]
          },
          "execution_count": 6,
          "metadata": {},
          "output_type": "execute_result"
        }
      ],
      "source": [
        "movies['overview'][0]"
      ]
    },
    {
      "cell_type": "code",
      "execution_count": null,
      "id": "e0cbfd37",
      "metadata": {
        "id": "e0cbfd37",
        "outputId": "25b2a87a-f1b6-434c-e829-332c23def2ac"
      },
      "outputs": [
        {
          "data": {
            "text/html": [
              "<div>\n",
              "<style scoped>\n",
              "    .dataframe tbody tr th:only-of-type {\n",
              "        vertical-align: middle;\n",
              "    }\n",
              "\n",
              "    .dataframe tbody tr th {\n",
              "        vertical-align: top;\n",
              "    }\n",
              "\n",
              "    .dataframe thead th {\n",
              "        text-align: right;\n",
              "    }\n",
              "</style>\n",
              "<table border=\"1\" class=\"dataframe\">\n",
              "  <thead>\n",
              "    <tr style=\"text-align: right;\">\n",
              "      <th></th>\n",
              "      <th>movie_id</th>\n",
              "      <th>title</th>\n",
              "      <th>cast</th>\n",
              "      <th>crew</th>\n",
              "    </tr>\n",
              "  </thead>\n",
              "  <tbody>\n",
              "    <tr>\n",
              "      <th>0</th>\n",
              "      <td>19995</td>\n",
              "      <td>Avatar</td>\n",
              "      <td>[{\"cast_id\": 242, \"character\": \"Jake Sully\", \"...</td>\n",
              "      <td>[{\"credit_id\": \"52fe48009251416c750aca23\", \"de...</td>\n",
              "    </tr>\n",
              "    <tr>\n",
              "      <th>1</th>\n",
              "      <td>285</td>\n",
              "      <td>Pirates of the Caribbean: At World's End</td>\n",
              "      <td>[{\"cast_id\": 4, \"character\": \"Captain Jack Spa...</td>\n",
              "      <td>[{\"credit_id\": \"52fe4232c3a36847f800b579\", \"de...</td>\n",
              "    </tr>\n",
              "    <tr>\n",
              "      <th>2</th>\n",
              "      <td>206647</td>\n",
              "      <td>Spectre</td>\n",
              "      <td>[{\"cast_id\": 1, \"character\": \"James Bond\", \"cr...</td>\n",
              "      <td>[{\"credit_id\": \"54805967c3a36829b5002c41\", \"de...</td>\n",
              "    </tr>\n",
              "    <tr>\n",
              "      <th>3</th>\n",
              "      <td>49026</td>\n",
              "      <td>The Dark Knight Rises</td>\n",
              "      <td>[{\"cast_id\": 2, \"character\": \"Bruce Wayne / Ba...</td>\n",
              "      <td>[{\"credit_id\": \"52fe4781c3a36847f81398c3\", \"de...</td>\n",
              "    </tr>\n",
              "    <tr>\n",
              "      <th>4</th>\n",
              "      <td>49529</td>\n",
              "      <td>John Carter</td>\n",
              "      <td>[{\"cast_id\": 5, \"character\": \"John Carter\", \"c...</td>\n",
              "      <td>[{\"credit_id\": \"52fe479ac3a36847f813eaa3\", \"de...</td>\n",
              "    </tr>\n",
              "    <tr>\n",
              "      <th>...</th>\n",
              "      <td>...</td>\n",
              "      <td>...</td>\n",
              "      <td>...</td>\n",
              "      <td>...</td>\n",
              "    </tr>\n",
              "    <tr>\n",
              "      <th>4798</th>\n",
              "      <td>9367</td>\n",
              "      <td>El Mariachi</td>\n",
              "      <td>[{\"cast_id\": 1, \"character\": \"El Mariachi\", \"c...</td>\n",
              "      <td>[{\"credit_id\": \"52fe44eec3a36847f80b280b\", \"de...</td>\n",
              "    </tr>\n",
              "    <tr>\n",
              "      <th>4799</th>\n",
              "      <td>72766</td>\n",
              "      <td>Newlyweds</td>\n",
              "      <td>[{\"cast_id\": 1, \"character\": \"Buzzy\", \"credit_...</td>\n",
              "      <td>[{\"credit_id\": \"52fe487dc3a368484e0fb013\", \"de...</td>\n",
              "    </tr>\n",
              "    <tr>\n",
              "      <th>4800</th>\n",
              "      <td>231617</td>\n",
              "      <td>Signed, Sealed, Delivered</td>\n",
              "      <td>[{\"cast_id\": 8, \"character\": \"Oliver O\\u2019To...</td>\n",
              "      <td>[{\"credit_id\": \"52fe4df3c3a36847f8275ecf\", \"de...</td>\n",
              "    </tr>\n",
              "    <tr>\n",
              "      <th>4801</th>\n",
              "      <td>126186</td>\n",
              "      <td>Shanghai Calling</td>\n",
              "      <td>[{\"cast_id\": 3, \"character\": \"Sam\", \"credit_id...</td>\n",
              "      <td>[{\"credit_id\": \"52fe4ad9c3a368484e16a36b\", \"de...</td>\n",
              "    </tr>\n",
              "    <tr>\n",
              "      <th>4802</th>\n",
              "      <td>25975</td>\n",
              "      <td>My Date with Drew</td>\n",
              "      <td>[{\"cast_id\": 3, \"character\": \"Herself\", \"credi...</td>\n",
              "      <td>[{\"credit_id\": \"58ce021b9251415a390165d9\", \"de...</td>\n",
              "    </tr>\n",
              "  </tbody>\n",
              "</table>\n",
              "<p>4803 rows × 4 columns</p>\n",
              "</div>"
            ],
            "text/plain": [
              "      movie_id                                     title  \\\n",
              "0        19995                                    Avatar   \n",
              "1          285  Pirates of the Caribbean: At World's End   \n",
              "2       206647                                   Spectre   \n",
              "3        49026                     The Dark Knight Rises   \n",
              "4        49529                               John Carter   \n",
              "...        ...                                       ...   \n",
              "4798      9367                               El Mariachi   \n",
              "4799     72766                                 Newlyweds   \n",
              "4800    231617                 Signed, Sealed, Delivered   \n",
              "4801    126186                          Shanghai Calling   \n",
              "4802     25975                         My Date with Drew   \n",
              "\n",
              "                                                   cast  \\\n",
              "0     [{\"cast_id\": 242, \"character\": \"Jake Sully\", \"...   \n",
              "1     [{\"cast_id\": 4, \"character\": \"Captain Jack Spa...   \n",
              "2     [{\"cast_id\": 1, \"character\": \"James Bond\", \"cr...   \n",
              "3     [{\"cast_id\": 2, \"character\": \"Bruce Wayne / Ba...   \n",
              "4     [{\"cast_id\": 5, \"character\": \"John Carter\", \"c...   \n",
              "...                                                 ...   \n",
              "4798  [{\"cast_id\": 1, \"character\": \"El Mariachi\", \"c...   \n",
              "4799  [{\"cast_id\": 1, \"character\": \"Buzzy\", \"credit_...   \n",
              "4800  [{\"cast_id\": 8, \"character\": \"Oliver O\\u2019To...   \n",
              "4801  [{\"cast_id\": 3, \"character\": \"Sam\", \"credit_id...   \n",
              "4802  [{\"cast_id\": 3, \"character\": \"Herself\", \"credi...   \n",
              "\n",
              "                                                   crew  \n",
              "0     [{\"credit_id\": \"52fe48009251416c750aca23\", \"de...  \n",
              "1     [{\"credit_id\": \"52fe4232c3a36847f800b579\", \"de...  \n",
              "2     [{\"credit_id\": \"54805967c3a36829b5002c41\", \"de...  \n",
              "3     [{\"credit_id\": \"52fe4781c3a36847f81398c3\", \"de...  \n",
              "4     [{\"credit_id\": \"52fe479ac3a36847f813eaa3\", \"de...  \n",
              "...                                                 ...  \n",
              "4798  [{\"credit_id\": \"52fe44eec3a36847f80b280b\", \"de...  \n",
              "4799  [{\"credit_id\": \"52fe487dc3a368484e0fb013\", \"de...  \n",
              "4800  [{\"credit_id\": \"52fe4df3c3a36847f8275ecf\", \"de...  \n",
              "4801  [{\"credit_id\": \"52fe4ad9c3a368484e16a36b\", \"de...  \n",
              "4802  [{\"credit_id\": \"58ce021b9251415a390165d9\", \"de...  \n",
              "\n",
              "[4803 rows x 4 columns]"
            ]
          },
          "execution_count": 7,
          "metadata": {},
          "output_type": "execute_result"
        }
      ],
      "source": [
        "df = pd.read_csv('tmdb_5000_credits.csv')\n",
        "df"
      ]
    },
    {
      "cell_type": "code",
      "execution_count": null,
      "id": "80aa5c20",
      "metadata": {
        "id": "80aa5c20",
        "outputId": "02d3d55f-cc66-4351-eaa9-fc0fc380b3b3"
      },
      "outputs": [
        {
          "data": {
            "text/plain": [
              "0       [{\"cast_id\": 242, \"character\": \"Jake Sully\", \"...\n",
              "1       [{\"cast_id\": 4, \"character\": \"Captain Jack Spa...\n",
              "2       [{\"cast_id\": 1, \"character\": \"James Bond\", \"cr...\n",
              "3       [{\"cast_id\": 2, \"character\": \"Bruce Wayne / Ba...\n",
              "4       [{\"cast_id\": 5, \"character\": \"John Carter\", \"c...\n",
              "                              ...                        \n",
              "4798    [{\"cast_id\": 1, \"character\": \"El Mariachi\", \"c...\n",
              "4799    [{\"cast_id\": 1, \"character\": \"Buzzy\", \"credit_...\n",
              "4800    [{\"cast_id\": 8, \"character\": \"Oliver O\\u2019To...\n",
              "4801    [{\"cast_id\": 3, \"character\": \"Sam\", \"credit_id...\n",
              "4802    [{\"cast_id\": 3, \"character\": \"Herself\", \"credi...\n",
              "Name: cast, Length: 4803, dtype: object"
            ]
          },
          "execution_count": 8,
          "metadata": {},
          "output_type": "execute_result"
        }
      ],
      "source": [
        "df['cast']"
      ]
    },
    {
      "cell_type": "markdown",
      "id": "ea461ec0",
      "metadata": {
        "id": "ea461ec0"
      },
      "source": [
        "### Merging the two files together on the \"title\" column"
      ]
    },
    {
      "cell_type": "code",
      "execution_count": null,
      "id": "2c612117",
      "metadata": {
        "id": "2c612117",
        "outputId": "f82014d2-1fe7-47d7-b2ee-7dc9013eeb61"
      },
      "outputs": [
        {
          "data": {
            "text/html": [
              "<div>\n",
              "<style scoped>\n",
              "    .dataframe tbody tr th:only-of-type {\n",
              "        vertical-align: middle;\n",
              "    }\n",
              "\n",
              "    .dataframe tbody tr th {\n",
              "        vertical-align: top;\n",
              "    }\n",
              "\n",
              "    .dataframe thead th {\n",
              "        text-align: right;\n",
              "    }\n",
              "</style>\n",
              "<table border=\"1\" class=\"dataframe\">\n",
              "  <thead>\n",
              "    <tr style=\"text-align: right;\">\n",
              "      <th></th>\n",
              "      <th>budget</th>\n",
              "      <th>genres</th>\n",
              "      <th>homepage</th>\n",
              "      <th>id</th>\n",
              "      <th>keywords</th>\n",
              "      <th>original_language</th>\n",
              "      <th>original_title</th>\n",
              "      <th>overview</th>\n",
              "      <th>popularity</th>\n",
              "      <th>production_companies</th>\n",
              "      <th>...</th>\n",
              "      <th>runtime</th>\n",
              "      <th>spoken_languages</th>\n",
              "      <th>status</th>\n",
              "      <th>tagline</th>\n",
              "      <th>title</th>\n",
              "      <th>vote_average</th>\n",
              "      <th>vote_count</th>\n",
              "      <th>movie_id</th>\n",
              "      <th>cast</th>\n",
              "      <th>crew</th>\n",
              "    </tr>\n",
              "  </thead>\n",
              "  <tbody>\n",
              "    <tr>\n",
              "      <th>0</th>\n",
              "      <td>237000000</td>\n",
              "      <td>[{\"id\": 28, \"name\": \"Action\"}, {\"id\": 12, \"nam...</td>\n",
              "      <td>http://www.avatarmovie.com/</td>\n",
              "      <td>19995</td>\n",
              "      <td>[{\"id\": 1463, \"name\": \"culture clash\"}, {\"id\":...</td>\n",
              "      <td>en</td>\n",
              "      <td>Avatar</td>\n",
              "      <td>In the 22nd century, a paraplegic Marine is di...</td>\n",
              "      <td>150.437577</td>\n",
              "      <td>[{\"name\": \"Ingenious Film Partners\", \"id\": 289...</td>\n",
              "      <td>...</td>\n",
              "      <td>162.0</td>\n",
              "      <td>[{\"iso_639_1\": \"en\", \"name\": \"English\"}, {\"iso...</td>\n",
              "      <td>Released</td>\n",
              "      <td>Enter the World of Pandora.</td>\n",
              "      <td>Avatar</td>\n",
              "      <td>7.2</td>\n",
              "      <td>11800</td>\n",
              "      <td>19995</td>\n",
              "      <td>[{\"cast_id\": 242, \"character\": \"Jake Sully\", \"...</td>\n",
              "      <td>[{\"credit_id\": \"52fe48009251416c750aca23\", \"de...</td>\n",
              "    </tr>\n",
              "    <tr>\n",
              "      <th>1</th>\n",
              "      <td>300000000</td>\n",
              "      <td>[{\"id\": 12, \"name\": \"Adventure\"}, {\"id\": 14, \"...</td>\n",
              "      <td>http://disney.go.com/disneypictures/pirates/</td>\n",
              "      <td>285</td>\n",
              "      <td>[{\"id\": 270, \"name\": \"ocean\"}, {\"id\": 726, \"na...</td>\n",
              "      <td>en</td>\n",
              "      <td>Pirates of the Caribbean: At World's End</td>\n",
              "      <td>Captain Barbossa, long believed to be dead, ha...</td>\n",
              "      <td>139.082615</td>\n",
              "      <td>[{\"name\": \"Walt Disney Pictures\", \"id\": 2}, {\"...</td>\n",
              "      <td>...</td>\n",
              "      <td>169.0</td>\n",
              "      <td>[{\"iso_639_1\": \"en\", \"name\": \"English\"}]</td>\n",
              "      <td>Released</td>\n",
              "      <td>At the end of the world, the adventure begins.</td>\n",
              "      <td>Pirates of the Caribbean: At World's End</td>\n",
              "      <td>6.9</td>\n",
              "      <td>4500</td>\n",
              "      <td>285</td>\n",
              "      <td>[{\"cast_id\": 4, \"character\": \"Captain Jack Spa...</td>\n",
              "      <td>[{\"credit_id\": \"52fe4232c3a36847f800b579\", \"de...</td>\n",
              "    </tr>\n",
              "    <tr>\n",
              "      <th>2</th>\n",
              "      <td>245000000</td>\n",
              "      <td>[{\"id\": 28, \"name\": \"Action\"}, {\"id\": 12, \"nam...</td>\n",
              "      <td>http://www.sonypictures.com/movies/spectre/</td>\n",
              "      <td>206647</td>\n",
              "      <td>[{\"id\": 470, \"name\": \"spy\"}, {\"id\": 818, \"name...</td>\n",
              "      <td>en</td>\n",
              "      <td>Spectre</td>\n",
              "      <td>A cryptic message from Bond’s past sends him o...</td>\n",
              "      <td>107.376788</td>\n",
              "      <td>[{\"name\": \"Columbia Pictures\", \"id\": 5}, {\"nam...</td>\n",
              "      <td>...</td>\n",
              "      <td>148.0</td>\n",
              "      <td>[{\"iso_639_1\": \"fr\", \"name\": \"Fran\\u00e7ais\"},...</td>\n",
              "      <td>Released</td>\n",
              "      <td>A Plan No One Escapes</td>\n",
              "      <td>Spectre</td>\n",
              "      <td>6.3</td>\n",
              "      <td>4466</td>\n",
              "      <td>206647</td>\n",
              "      <td>[{\"cast_id\": 1, \"character\": \"James Bond\", \"cr...</td>\n",
              "      <td>[{\"credit_id\": \"54805967c3a36829b5002c41\", \"de...</td>\n",
              "    </tr>\n",
              "    <tr>\n",
              "      <th>3</th>\n",
              "      <td>250000000</td>\n",
              "      <td>[{\"id\": 28, \"name\": \"Action\"}, {\"id\": 80, \"nam...</td>\n",
              "      <td>http://www.thedarkknightrises.com/</td>\n",
              "      <td>49026</td>\n",
              "      <td>[{\"id\": 849, \"name\": \"dc comics\"}, {\"id\": 853,...</td>\n",
              "      <td>en</td>\n",
              "      <td>The Dark Knight Rises</td>\n",
              "      <td>Following the death of District Attorney Harve...</td>\n",
              "      <td>112.312950</td>\n",
              "      <td>[{\"name\": \"Legendary Pictures\", \"id\": 923}, {\"...</td>\n",
              "      <td>...</td>\n",
              "      <td>165.0</td>\n",
              "      <td>[{\"iso_639_1\": \"en\", \"name\": \"English\"}]</td>\n",
              "      <td>Released</td>\n",
              "      <td>The Legend Ends</td>\n",
              "      <td>The Dark Knight Rises</td>\n",
              "      <td>7.6</td>\n",
              "      <td>9106</td>\n",
              "      <td>49026</td>\n",
              "      <td>[{\"cast_id\": 2, \"character\": \"Bruce Wayne / Ba...</td>\n",
              "      <td>[{\"credit_id\": \"52fe4781c3a36847f81398c3\", \"de...</td>\n",
              "    </tr>\n",
              "    <tr>\n",
              "      <th>4</th>\n",
              "      <td>260000000</td>\n",
              "      <td>[{\"id\": 28, \"name\": \"Action\"}, {\"id\": 12, \"nam...</td>\n",
              "      <td>http://movies.disney.com/john-carter</td>\n",
              "      <td>49529</td>\n",
              "      <td>[{\"id\": 818, \"name\": \"based on novel\"}, {\"id\":...</td>\n",
              "      <td>en</td>\n",
              "      <td>John Carter</td>\n",
              "      <td>John Carter is a war-weary, former military ca...</td>\n",
              "      <td>43.926995</td>\n",
              "      <td>[{\"name\": \"Walt Disney Pictures\", \"id\": 2}]</td>\n",
              "      <td>...</td>\n",
              "      <td>132.0</td>\n",
              "      <td>[{\"iso_639_1\": \"en\", \"name\": \"English\"}]</td>\n",
              "      <td>Released</td>\n",
              "      <td>Lost in our world, found in another.</td>\n",
              "      <td>John Carter</td>\n",
              "      <td>6.1</td>\n",
              "      <td>2124</td>\n",
              "      <td>49529</td>\n",
              "      <td>[{\"cast_id\": 5, \"character\": \"John Carter\", \"c...</td>\n",
              "      <td>[{\"credit_id\": \"52fe479ac3a36847f813eaa3\", \"de...</td>\n",
              "    </tr>\n",
              "  </tbody>\n",
              "</table>\n",
              "<p>5 rows × 23 columns</p>\n",
              "</div>"
            ],
            "text/plain": [
              "      budget                                             genres  \\\n",
              "0  237000000  [{\"id\": 28, \"name\": \"Action\"}, {\"id\": 12, \"nam...   \n",
              "1  300000000  [{\"id\": 12, \"name\": \"Adventure\"}, {\"id\": 14, \"...   \n",
              "2  245000000  [{\"id\": 28, \"name\": \"Action\"}, {\"id\": 12, \"nam...   \n",
              "3  250000000  [{\"id\": 28, \"name\": \"Action\"}, {\"id\": 80, \"nam...   \n",
              "4  260000000  [{\"id\": 28, \"name\": \"Action\"}, {\"id\": 12, \"nam...   \n",
              "\n",
              "                                       homepage      id  \\\n",
              "0                   http://www.avatarmovie.com/   19995   \n",
              "1  http://disney.go.com/disneypictures/pirates/     285   \n",
              "2   http://www.sonypictures.com/movies/spectre/  206647   \n",
              "3            http://www.thedarkknightrises.com/   49026   \n",
              "4          http://movies.disney.com/john-carter   49529   \n",
              "\n",
              "                                            keywords original_language  \\\n",
              "0  [{\"id\": 1463, \"name\": \"culture clash\"}, {\"id\":...                en   \n",
              "1  [{\"id\": 270, \"name\": \"ocean\"}, {\"id\": 726, \"na...                en   \n",
              "2  [{\"id\": 470, \"name\": \"spy\"}, {\"id\": 818, \"name...                en   \n",
              "3  [{\"id\": 849, \"name\": \"dc comics\"}, {\"id\": 853,...                en   \n",
              "4  [{\"id\": 818, \"name\": \"based on novel\"}, {\"id\":...                en   \n",
              "\n",
              "                             original_title  \\\n",
              "0                                    Avatar   \n",
              "1  Pirates of the Caribbean: At World's End   \n",
              "2                                   Spectre   \n",
              "3                     The Dark Knight Rises   \n",
              "4                               John Carter   \n",
              "\n",
              "                                            overview  popularity  \\\n",
              "0  In the 22nd century, a paraplegic Marine is di...  150.437577   \n",
              "1  Captain Barbossa, long believed to be dead, ha...  139.082615   \n",
              "2  A cryptic message from Bond’s past sends him o...  107.376788   \n",
              "3  Following the death of District Attorney Harve...  112.312950   \n",
              "4  John Carter is a war-weary, former military ca...   43.926995   \n",
              "\n",
              "                                production_companies  ... runtime  \\\n",
              "0  [{\"name\": \"Ingenious Film Partners\", \"id\": 289...  ...   162.0   \n",
              "1  [{\"name\": \"Walt Disney Pictures\", \"id\": 2}, {\"...  ...   169.0   \n",
              "2  [{\"name\": \"Columbia Pictures\", \"id\": 5}, {\"nam...  ...   148.0   \n",
              "3  [{\"name\": \"Legendary Pictures\", \"id\": 923}, {\"...  ...   165.0   \n",
              "4        [{\"name\": \"Walt Disney Pictures\", \"id\": 2}]  ...   132.0   \n",
              "\n",
              "                                    spoken_languages    status  \\\n",
              "0  [{\"iso_639_1\": \"en\", \"name\": \"English\"}, {\"iso...  Released   \n",
              "1           [{\"iso_639_1\": \"en\", \"name\": \"English\"}]  Released   \n",
              "2  [{\"iso_639_1\": \"fr\", \"name\": \"Fran\\u00e7ais\"},...  Released   \n",
              "3           [{\"iso_639_1\": \"en\", \"name\": \"English\"}]  Released   \n",
              "4           [{\"iso_639_1\": \"en\", \"name\": \"English\"}]  Released   \n",
              "\n",
              "                                          tagline  \\\n",
              "0                     Enter the World of Pandora.   \n",
              "1  At the end of the world, the adventure begins.   \n",
              "2                           A Plan No One Escapes   \n",
              "3                                 The Legend Ends   \n",
              "4            Lost in our world, found in another.   \n",
              "\n",
              "                                      title vote_average vote_count movie_id  \\\n",
              "0                                    Avatar          7.2      11800    19995   \n",
              "1  Pirates of the Caribbean: At World's End          6.9       4500      285   \n",
              "2                                   Spectre          6.3       4466   206647   \n",
              "3                     The Dark Knight Rises          7.6       9106    49026   \n",
              "4                               John Carter          6.1       2124    49529   \n",
              "\n",
              "                                                cast  \\\n",
              "0  [{\"cast_id\": 242, \"character\": \"Jake Sully\", \"...   \n",
              "1  [{\"cast_id\": 4, \"character\": \"Captain Jack Spa...   \n",
              "2  [{\"cast_id\": 1, \"character\": \"James Bond\", \"cr...   \n",
              "3  [{\"cast_id\": 2, \"character\": \"Bruce Wayne / Ba...   \n",
              "4  [{\"cast_id\": 5, \"character\": \"John Carter\", \"c...   \n",
              "\n",
              "                                                crew  \n",
              "0  [{\"credit_id\": \"52fe48009251416c750aca23\", \"de...  \n",
              "1  [{\"credit_id\": \"52fe4232c3a36847f800b579\", \"de...  \n",
              "2  [{\"credit_id\": \"54805967c3a36829b5002c41\", \"de...  \n",
              "3  [{\"credit_id\": \"52fe4781c3a36847f81398c3\", \"de...  \n",
              "4  [{\"credit_id\": \"52fe479ac3a36847f813eaa3\", \"de...  \n",
              "\n",
              "[5 rows x 23 columns]"
            ]
          },
          "execution_count": 9,
          "metadata": {},
          "output_type": "execute_result"
        }
      ],
      "source": [
        "df = movies.merge(df, on='title')\n",
        "df.head()"
      ]
    },
    {
      "cell_type": "code",
      "execution_count": null,
      "id": "a19c90f9",
      "metadata": {
        "id": "a19c90f9",
        "outputId": "922c6922-3d3a-45cc-ae15-3f0fd31958ca"
      },
      "outputs": [
        {
          "name": "stdout",
          "output_type": "stream",
          "text": [
            "<class 'pandas.core.frame.DataFrame'>\n",
            "Int64Index: 4808 entries, 0 to 4807\n",
            "Data columns (total 23 columns):\n",
            " #   Column                Non-Null Count  Dtype  \n",
            "---  ------                --------------  -----  \n",
            " 0   budget                4808 non-null   int64  \n",
            " 1   genres                4808 non-null   object \n",
            " 2   homepage              1713 non-null   object \n",
            " 3   id                    4808 non-null   int64  \n",
            " 4   keywords              4808 non-null   object \n",
            " 5   original_language     4808 non-null   object \n",
            " 6   original_title        4808 non-null   object \n",
            " 7   overview              4805 non-null   object \n",
            " 8   popularity            4808 non-null   float64\n",
            " 9   production_companies  4808 non-null   object \n",
            " 10  production_countries  4808 non-null   object \n",
            " 11  release_date          4807 non-null   object \n",
            " 12  revenue               4808 non-null   int64  \n",
            " 13  runtime               4806 non-null   float64\n",
            " 14  spoken_languages      4808 non-null   object \n",
            " 15  status                4808 non-null   object \n",
            " 16  tagline               3964 non-null   object \n",
            " 17  title                 4808 non-null   object \n",
            " 18  vote_average          4808 non-null   float64\n",
            " 19  vote_count            4808 non-null   int64  \n",
            " 20  movie_id              4808 non-null   int64  \n",
            " 21  cast                  4808 non-null   object \n",
            " 22  crew                  4808 non-null   object \n",
            "dtypes: float64(3), int64(5), object(15)\n",
            "memory usage: 901.5+ KB\n"
          ]
        }
      ],
      "source": [
        "df.info()"
      ]
    },
    {
      "cell_type": "code",
      "execution_count": null,
      "id": "2d2224f3",
      "metadata": {
        "id": "2d2224f3",
        "outputId": "e825b702-efc7-457c-ee89-20de71b55b79"
      },
      "outputs": [
        {
          "data": {
            "text/plain": [
              "budget                     0\n",
              "genres                     0\n",
              "homepage                3095\n",
              "id                         0\n",
              "keywords                   0\n",
              "original_language          0\n",
              "original_title             0\n",
              "overview                   3\n",
              "popularity                 0\n",
              "production_companies       0\n",
              "production_countries       0\n",
              "release_date               1\n",
              "revenue                    0\n",
              "runtime                    2\n",
              "spoken_languages           0\n",
              "status                     0\n",
              "tagline                  844\n",
              "title                      0\n",
              "vote_average               0\n",
              "vote_count                 0\n",
              "movie_id                   0\n",
              "cast                       0\n",
              "crew                       0\n",
              "dtype: int64"
            ]
          },
          "execution_count": 11,
          "metadata": {},
          "output_type": "execute_result"
        }
      ],
      "source": [
        "df.isnull().sum()"
      ]
    },
    {
      "cell_type": "markdown",
      "id": "177516bf",
      "metadata": {
        "id": "177516bf"
      },
      "source": [
        "### Function to convert list of strings to list using names"
      ]
    },
    {
      "cell_type": "code",
      "execution_count": null,
      "id": "82b5f2df",
      "metadata": {
        "id": "82b5f2df"
      },
      "outputs": [],
      "source": [
        "import ast\n",
        "def list_string(x):\n",
        "    x = ast.literal_eval(x)\n",
        "    list = []\n",
        "    for i in x:\n",
        "        list.append(i['name'])\n",
        "    return list"
      ]
    },
    {
      "cell_type": "markdown",
      "id": "a2344cbe",
      "metadata": {
        "id": "a2344cbe"
      },
      "source": [
        "### Function to convert list of strings to list to get director's name"
      ]
    },
    {
      "cell_type": "code",
      "execution_count": null,
      "id": "220ea6d0",
      "metadata": {
        "id": "220ea6d0"
      },
      "outputs": [],
      "source": [
        "def list_string2(x):\n",
        "    x = ast.literal_eval(x)\n",
        "    list = []\n",
        "    for i in x:\n",
        "        if i['job'] == 'Director':\n",
        "            list.append(i['name'])\n",
        "    return list"
      ]
    },
    {
      "cell_type": "code",
      "execution_count": null,
      "id": "2f01533f",
      "metadata": {
        "id": "2f01533f"
      },
      "outputs": [],
      "source": [
        "df['cast'] = df['cast'].apply(list_string)"
      ]
    },
    {
      "cell_type": "code",
      "execution_count": null,
      "id": "e5d229d8",
      "metadata": {
        "id": "e5d229d8"
      },
      "outputs": [],
      "source": [
        "df['crew'] = df['crew'].apply(list_string2)"
      ]
    },
    {
      "cell_type": "code",
      "execution_count": null,
      "id": "1e429ed8",
      "metadata": {
        "id": "1e429ed8"
      },
      "outputs": [],
      "source": [
        "df['genres'] = df['genres'].apply(list_string)"
      ]
    },
    {
      "cell_type": "code",
      "execution_count": null,
      "id": "c8c96a12",
      "metadata": {
        "id": "c8c96a12"
      },
      "outputs": [],
      "source": [
        "df['keywords'] = df['keywords'].apply(list_string)"
      ]
    },
    {
      "cell_type": "code",
      "execution_count": null,
      "id": "2262dcff",
      "metadata": {
        "id": "2262dcff",
        "outputId": "7b92ca33-0319-400a-9c34-0c0484aa004c"
      },
      "outputs": [
        {
          "data": {
            "text/html": [
              "<div>\n",
              "<style scoped>\n",
              "    .dataframe tbody tr th:only-of-type {\n",
              "        vertical-align: middle;\n",
              "    }\n",
              "\n",
              "    .dataframe tbody tr th {\n",
              "        vertical-align: top;\n",
              "    }\n",
              "\n",
              "    .dataframe thead th {\n",
              "        text-align: right;\n",
              "    }\n",
              "</style>\n",
              "<table border=\"1\" class=\"dataframe\">\n",
              "  <thead>\n",
              "    <tr style=\"text-align: right;\">\n",
              "      <th></th>\n",
              "      <th>budget</th>\n",
              "      <th>genres</th>\n",
              "      <th>homepage</th>\n",
              "      <th>id</th>\n",
              "      <th>keywords</th>\n",
              "      <th>original_language</th>\n",
              "      <th>original_title</th>\n",
              "      <th>overview</th>\n",
              "      <th>popularity</th>\n",
              "      <th>production_companies</th>\n",
              "      <th>...</th>\n",
              "      <th>runtime</th>\n",
              "      <th>spoken_languages</th>\n",
              "      <th>status</th>\n",
              "      <th>tagline</th>\n",
              "      <th>title</th>\n",
              "      <th>vote_average</th>\n",
              "      <th>vote_count</th>\n",
              "      <th>movie_id</th>\n",
              "      <th>cast</th>\n",
              "      <th>crew</th>\n",
              "    </tr>\n",
              "  </thead>\n",
              "  <tbody>\n",
              "    <tr>\n",
              "      <th>1208</th>\n",
              "      <td>43000000</td>\n",
              "      <td>[Drama, Horror, Mystery, Thriller]</td>\n",
              "      <td>NaN</td>\n",
              "      <td>9913</td>\n",
              "      <td>[nurse, secret, dream, fight, kidnapping, new ...</td>\n",
              "      <td>en</td>\n",
              "      <td>The Skeleton Key</td>\n",
              "      <td>A hospice nurse working at a spooky New Orlean...</td>\n",
              "      <td>29.105407</td>\n",
              "      <td>[{\"name\": \"Universal Pictures\", \"id\": 33}, {\"n...</td>\n",
              "      <td>...</td>\n",
              "      <td>104.0</td>\n",
              "      <td>[{\"iso_639_1\": \"en\", \"name\": \"English\"}]</td>\n",
              "      <td>Released</td>\n",
              "      <td>Fearing Is Believing</td>\n",
              "      <td>The Skeleton Key</td>\n",
              "      <td>6.4</td>\n",
              "      <td>573</td>\n",
              "      <td>9913</td>\n",
              "      <td>[Kate Hudson, Gena Rowlands, Peter Sarsgaard, ...</td>\n",
              "      <td>[Iain Softley]</td>\n",
              "    </tr>\n",
              "    <tr>\n",
              "      <th>2364</th>\n",
              "      <td>21000000</td>\n",
              "      <td>[Drama, Thriller]</td>\n",
              "      <td>NaN</td>\n",
              "      <td>2575</td>\n",
              "      <td>[dancing, spy, birthday, map, fireworks, bridg...</td>\n",
              "      <td>en</td>\n",
              "      <td>The Tailor of Panama</td>\n",
              "      <td>A British spy is banished to Panama after havi...</td>\n",
              "      <td>7.047975</td>\n",
              "      <td>[{\"name\": \"Columbia Pictures\", \"id\": 5}, {\"nam...</td>\n",
              "      <td>...</td>\n",
              "      <td>109.0</td>\n",
              "      <td>[{\"iso_639_1\": \"en\", \"name\": \"English\"}, {\"iso...</td>\n",
              "      <td>Released</td>\n",
              "      <td>In a place this treacherous, what a good spy n...</td>\n",
              "      <td>The Tailor of Panama</td>\n",
              "      <td>6.2</td>\n",
              "      <td>92</td>\n",
              "      <td>2575</td>\n",
              "      <td>[Pierce Brosnan, Geoffrey Rush, Jamie Lee Curt...</td>\n",
              "      <td>[John Boorman]</td>\n",
              "    </tr>\n",
              "    <tr>\n",
              "      <th>3913</th>\n",
              "      <td>3000000</td>\n",
              "      <td>[Fantasy, Horror, Thriller]</td>\n",
              "      <td>NaN</td>\n",
              "      <td>10285</td>\n",
              "      <td>[male nudity, female nudity, waitress, camping...</td>\n",
              "      <td>en</td>\n",
              "      <td>Jason Goes to Hell: The Final Friday</td>\n",
              "      <td>Jason Voorhees, the living, breathing essence ...</td>\n",
              "      <td>10.341982</td>\n",
              "      <td>[{\"name\": \"New Line Cinema\", \"id\": 12}, {\"name...</td>\n",
              "      <td>...</td>\n",
              "      <td>87.0</td>\n",
              "      <td>[{\"iso_639_1\": \"en\", \"name\": \"English\"}]</td>\n",
              "      <td>Released</td>\n",
              "      <td>Evil has finally found a home.</td>\n",
              "      <td>Jason Goes to Hell: The Final Friday</td>\n",
              "      <td>4.2</td>\n",
              "      <td>193</td>\n",
              "      <td>10285</td>\n",
              "      <td>[Kane Hodder, John D. LeMay, Kari Keegan, Stev...</td>\n",
              "      <td>[Adam Marcus]</td>\n",
              "    </tr>\n",
              "    <tr>\n",
              "      <th>3363</th>\n",
              "      <td>700000</td>\n",
              "      <td>[Crime, Drama, Comedy]</td>\n",
              "      <td>http://www.youaredope.com/</td>\n",
              "      <td>308639</td>\n",
              "      <td>[california, hip-hop, harvard university, geek...</td>\n",
              "      <td>en</td>\n",
              "      <td>Dope</td>\n",
              "      <td>Malcolm is carefully surviving life in a tough...</td>\n",
              "      <td>29.761163</td>\n",
              "      <td>[{\"name\": \"Forest Whitaker's Significant Produ...</td>\n",
              "      <td>...</td>\n",
              "      <td>103.0</td>\n",
              "      <td>[{\"iso_639_1\": \"en\", \"name\": \"English\"}]</td>\n",
              "      <td>Released</td>\n",
              "      <td>It's hard out here for a geek.</td>\n",
              "      <td>Dope</td>\n",
              "      <td>7.2</td>\n",
              "      <td>691</td>\n",
              "      <td>308639</td>\n",
              "      <td>[Shameik Moore, Kiersey Clemons, Tony Revolori...</td>\n",
              "      <td>[Rick Famuyiwa]</td>\n",
              "    </tr>\n",
              "    <tr>\n",
              "      <th>2423</th>\n",
              "      <td>15000000</td>\n",
              "      <td>[Horror, Thriller]</td>\n",
              "      <td>http://www.foxsearchlight.com/thehillshaveeyes/</td>\n",
              "      <td>9792</td>\n",
              "      <td>[ambush, new mexico, van, family holiday, axe ...</td>\n",
              "      <td>en</td>\n",
              "      <td>The Hills Have Eyes</td>\n",
              "      <td>Based on Wes Craven's 1977 suspenseful cult cl...</td>\n",
              "      <td>35.107857</td>\n",
              "      <td>[{\"name\": \"Fox Searchlight Pictures\", \"id\": 43...</td>\n",
              "      <td>...</td>\n",
              "      <td>107.0</td>\n",
              "      <td>[{\"iso_639_1\": \"en\", \"name\": \"English\"}]</td>\n",
              "      <td>Released</td>\n",
              "      <td>The lucky ones die first.</td>\n",
              "      <td>The Hills Have Eyes</td>\n",
              "      <td>6.1</td>\n",
              "      <td>705</td>\n",
              "      <td>9792</td>\n",
              "      <td>[Aaron Stanford, Kathleen Quinlan, Vinessa Sha...</td>\n",
              "      <td>[Alexandre Aja]</td>\n",
              "    </tr>\n",
              "  </tbody>\n",
              "</table>\n",
              "<p>5 rows × 23 columns</p>\n",
              "</div>"
            ],
            "text/plain": [
              "        budget                              genres  \\\n",
              "1208  43000000  [Drama, Horror, Mystery, Thriller]   \n",
              "2364  21000000                   [Drama, Thriller]   \n",
              "3913   3000000         [Fantasy, Horror, Thriller]   \n",
              "3363    700000              [Crime, Drama, Comedy]   \n",
              "2423  15000000                  [Horror, Thriller]   \n",
              "\n",
              "                                             homepage      id  \\\n",
              "1208                                              NaN    9913   \n",
              "2364                                              NaN    2575   \n",
              "3913                                              NaN   10285   \n",
              "3363                       http://www.youaredope.com/  308639   \n",
              "2423  http://www.foxsearchlight.com/thehillshaveeyes/    9792   \n",
              "\n",
              "                                               keywords original_language  \\\n",
              "1208  [nurse, secret, dream, fight, kidnapping, new ...                en   \n",
              "2364  [dancing, spy, birthday, map, fireworks, bridg...                en   \n",
              "3913  [male nudity, female nudity, waitress, camping...                en   \n",
              "3363  [california, hip-hop, harvard university, geek...                en   \n",
              "2423  [ambush, new mexico, van, family holiday, axe ...                en   \n",
              "\n",
              "                            original_title  \\\n",
              "1208                      The Skeleton Key   \n",
              "2364                  The Tailor of Panama   \n",
              "3913  Jason Goes to Hell: The Final Friday   \n",
              "3363                                  Dope   \n",
              "2423                   The Hills Have Eyes   \n",
              "\n",
              "                                               overview  popularity  \\\n",
              "1208  A hospice nurse working at a spooky New Orlean...   29.105407   \n",
              "2364  A British spy is banished to Panama after havi...    7.047975   \n",
              "3913  Jason Voorhees, the living, breathing essence ...   10.341982   \n",
              "3363  Malcolm is carefully surviving life in a tough...   29.761163   \n",
              "2423  Based on Wes Craven's 1977 suspenseful cult cl...   35.107857   \n",
              "\n",
              "                                   production_companies  ... runtime  \\\n",
              "1208  [{\"name\": \"Universal Pictures\", \"id\": 33}, {\"n...  ...   104.0   \n",
              "2364  [{\"name\": \"Columbia Pictures\", \"id\": 5}, {\"nam...  ...   109.0   \n",
              "3913  [{\"name\": \"New Line Cinema\", \"id\": 12}, {\"name...  ...    87.0   \n",
              "3363  [{\"name\": \"Forest Whitaker's Significant Produ...  ...   103.0   \n",
              "2423  [{\"name\": \"Fox Searchlight Pictures\", \"id\": 43...  ...   107.0   \n",
              "\n",
              "                                       spoken_languages    status  \\\n",
              "1208           [{\"iso_639_1\": \"en\", \"name\": \"English\"}]  Released   \n",
              "2364  [{\"iso_639_1\": \"en\", \"name\": \"English\"}, {\"iso...  Released   \n",
              "3913           [{\"iso_639_1\": \"en\", \"name\": \"English\"}]  Released   \n",
              "3363           [{\"iso_639_1\": \"en\", \"name\": \"English\"}]  Released   \n",
              "2423           [{\"iso_639_1\": \"en\", \"name\": \"English\"}]  Released   \n",
              "\n",
              "                                                tagline  \\\n",
              "1208                               Fearing Is Believing   \n",
              "2364  In a place this treacherous, what a good spy n...   \n",
              "3913                     Evil has finally found a home.   \n",
              "3363                     It's hard out here for a geek.   \n",
              "2423                          The lucky ones die first.   \n",
              "\n",
              "                                     title vote_average vote_count movie_id  \\\n",
              "1208                      The Skeleton Key          6.4        573     9913   \n",
              "2364                  The Tailor of Panama          6.2         92     2575   \n",
              "3913  Jason Goes to Hell: The Final Friday          4.2        193    10285   \n",
              "3363                                  Dope          7.2        691   308639   \n",
              "2423                   The Hills Have Eyes          6.1        705     9792   \n",
              "\n",
              "                                                   cast             crew  \n",
              "1208  [Kate Hudson, Gena Rowlands, Peter Sarsgaard, ...   [Iain Softley]  \n",
              "2364  [Pierce Brosnan, Geoffrey Rush, Jamie Lee Curt...   [John Boorman]  \n",
              "3913  [Kane Hodder, John D. LeMay, Kari Keegan, Stev...    [Adam Marcus]  \n",
              "3363  [Shameik Moore, Kiersey Clemons, Tony Revolori...  [Rick Famuyiwa]  \n",
              "2423  [Aaron Stanford, Kathleen Quinlan, Vinessa Sha...  [Alexandre Aja]  \n",
              "\n",
              "[5 rows x 23 columns]"
            ]
          },
          "execution_count": 18,
          "metadata": {},
          "output_type": "execute_result"
        }
      ],
      "source": [
        "df.sample(5)"
      ]
    },
    {
      "cell_type": "code",
      "execution_count": null,
      "id": "4c2f6d03",
      "metadata": {
        "id": "4c2f6d03",
        "outputId": "e147d615-84dc-41b4-fbb4-337e492dc7c8"
      },
      "outputs": [
        {
          "data": {
            "text/plain": [
              "0       [Sam Worthington, Zoe Saldana, Sigourney Weave...\n",
              "1       [Johnny Depp, Orlando Bloom, Keira Knightley, ...\n",
              "2       [Daniel Craig, Christoph Waltz, Léa Seydoux, R...\n",
              "3       [Christian Bale, Michael Caine, Gary Oldman, A...\n",
              "4       [Taylor Kitsch, Lynn Collins, Samantha Morton,...\n",
              "                              ...                        \n",
              "4803    [Carlos Gallardo, Jaime de Hoyos, Peter Marqua...\n",
              "4804    [Edward Burns, Kerry Bishé, Marsha Dietlein, C...\n",
              "4805    [Eric Mabius, Kristin Booth, Crystal Lowe, Geo...\n",
              "4806    [Daniel Henney, Eliza Coupe, Bill Paxton, Alan...\n",
              "4807    [Drew Barrymore, Brian Herzlinger, Corey Feldm...\n",
              "Name: cast, Length: 4808, dtype: object"
            ]
          },
          "execution_count": 19,
          "metadata": {},
          "output_type": "execute_result"
        }
      ],
      "source": [
        "df['cast']"
      ]
    },
    {
      "cell_type": "code",
      "execution_count": null,
      "id": "5af33bdd",
      "metadata": {
        "id": "5af33bdd",
        "outputId": "5a2d60a6-7055-46c4-dd22-f50c4787aae8"
      },
      "outputs": [
        {
          "data": {
            "text/plain": [
              "0                                [James Cameron]\n",
              "1                               [Gore Verbinski]\n",
              "2                                   [Sam Mendes]\n",
              "3                            [Christopher Nolan]\n",
              "4                               [Andrew Stanton]\n",
              "                          ...                   \n",
              "4803                          [Robert Rodriguez]\n",
              "4804                              [Edward Burns]\n",
              "4805                               [Scott Smith]\n",
              "4806                               [Daniel Hsia]\n",
              "4807    [Brian Herzlinger, Jon Gunn, Brett Winn]\n",
              "Name: crew, Length: 4808, dtype: object"
            ]
          },
          "execution_count": 20,
          "metadata": {},
          "output_type": "execute_result"
        }
      ],
      "source": [
        "df['crew']"
      ]
    },
    {
      "cell_type": "markdown",
      "id": "176a285d",
      "metadata": {
        "id": "176a285d"
      },
      "source": [
        "- We notice the presence of whitespaces between items in the cast and crew column. "
      ]
    },
    {
      "cell_type": "markdown",
      "id": "ddad448d",
      "metadata": {
        "id": "ddad448d"
      },
      "source": [
        "### Function to remove whitespaces"
      ]
    },
    {
      "cell_type": "code",
      "execution_count": null,
      "id": "d9a3299e",
      "metadata": {
        "id": "d9a3299e"
      },
      "outputs": [],
      "source": [
        "def remove_whitespace(x):\n",
        "    list = []\n",
        "    for i in x:\n",
        "        list.append(i.replace(' ',''))\n",
        "    return list"
      ]
    },
    {
      "cell_type": "code",
      "execution_count": null,
      "id": "033a5e4b",
      "metadata": {
        "id": "033a5e4b"
      },
      "outputs": [],
      "source": [
        "df['cast'] = df['cast'].apply(remove_whitespace)\n",
        "df['crew'] = df['crew'].apply(remove_whitespace)\n",
        "df['genres'] = df['genres'].apply(remove_whitespace)"
      ]
    },
    {
      "cell_type": "code",
      "execution_count": null,
      "id": "8656d8a5",
      "metadata": {
        "scrolled": true,
        "id": "8656d8a5",
        "outputId": "29c46f9b-1628-4690-fe11-8ea9a0037e9f"
      },
      "outputs": [
        {
          "data": {
            "text/plain": [
              "0       [SamWorthington, ZoeSaldana, SigourneyWeaver, ...\n",
              "1       [JohnnyDepp, OrlandoBloom, KeiraKnightley, Ste...\n",
              "2       [DanielCraig, ChristophWaltz, LéaSeydoux, Ralp...\n",
              "3       [ChristianBale, MichaelCaine, GaryOldman, Anne...\n",
              "4       [TaylorKitsch, LynnCollins, SamanthaMorton, Wi...\n",
              "                              ...                        \n",
              "4803    [CarlosGallardo, JaimedeHoyos, PeterMarquardt,...\n",
              "4804    [EdwardBurns, KerryBishé, MarshaDietlein, Cait...\n",
              "4805    [EricMabius, KristinBooth, CrystalLowe, GeoffG...\n",
              "4806    [DanielHenney, ElizaCoupe, BillPaxton, AlanRuc...\n",
              "4807    [DrewBarrymore, BrianHerzlinger, CoreyFeldman,...\n",
              "Name: cast, Length: 4808, dtype: object"
            ]
          },
          "execution_count": 23,
          "metadata": {},
          "output_type": "execute_result"
        }
      ],
      "source": [
        "df['cast']"
      ]
    },
    {
      "cell_type": "code",
      "execution_count": null,
      "id": "a6f8fd59",
      "metadata": {
        "id": "a6f8fd59",
        "outputId": "8b04f496-ca82-4dad-bdcb-a2e2751c0f71"
      },
      "outputs": [
        {
          "data": {
            "text/plain": [
              "0       [Action, Adventure, Fantasy, ScienceFiction]\n",
              "1                       [Adventure, Fantasy, Action]\n",
              "2                         [Action, Adventure, Crime]\n",
              "3                   [Action, Crime, Drama, Thriller]\n",
              "4                [Action, Adventure, ScienceFiction]\n",
              "                            ...                     \n",
              "4803                       [Action, Crime, Thriller]\n",
              "4804                               [Comedy, Romance]\n",
              "4805               [Comedy, Drama, Romance, TVMovie]\n",
              "4806                                              []\n",
              "4807                                   [Documentary]\n",
              "Name: genres, Length: 4808, dtype: object"
            ]
          },
          "execution_count": 24,
          "metadata": {},
          "output_type": "execute_result"
        }
      ],
      "source": [
        "df['genres']"
      ]
    },
    {
      "cell_type": "code",
      "execution_count": null,
      "id": "450634e2",
      "metadata": {
        "id": "450634e2",
        "outputId": "47b2bbc5-5005-4794-9039-d56300ea0d14"
      },
      "outputs": [
        {
          "data": {
            "text/plain": [
              "0                              [JamesCameron]\n",
              "1                             [GoreVerbinski]\n",
              "2                                 [SamMendes]\n",
              "3                          [ChristopherNolan]\n",
              "4                             [AndrewStanton]\n",
              "                        ...                  \n",
              "4803                        [RobertRodriguez]\n",
              "4804                            [EdwardBurns]\n",
              "4805                             [ScottSmith]\n",
              "4806                             [DanielHsia]\n",
              "4807    [BrianHerzlinger, JonGunn, BrettWinn]\n",
              "Name: crew, Length: 4808, dtype: object"
            ]
          },
          "execution_count": 25,
          "metadata": {},
          "output_type": "execute_result"
        }
      ],
      "source": [
        "df['crew']"
      ]
    },
    {
      "cell_type": "code",
      "execution_count": null,
      "id": "c87ddbeb",
      "metadata": {
        "id": "c87ddbeb",
        "outputId": "a16d50fe-6bec-409f-86da-f652a0554493"
      },
      "outputs": [
        {
          "data": {
            "text/plain": [
              "0        [SamWorthington, ZoeSaldana, SigourneyWeaver]\n",
              "1           [JohnnyDepp, OrlandoBloom, KeiraKnightley]\n",
              "2            [DanielCraig, ChristophWaltz, LéaSeydoux]\n",
              "3            [ChristianBale, MichaelCaine, GaryOldman]\n",
              "4          [TaylorKitsch, LynnCollins, SamanthaMorton]\n",
              "                             ...                      \n",
              "4803    [CarlosGallardo, JaimedeHoyos, PeterMarquardt]\n",
              "4804         [EdwardBurns, KerryBishé, MarshaDietlein]\n",
              "4805           [EricMabius, KristinBooth, CrystalLowe]\n",
              "4806            [DanielHenney, ElizaCoupe, BillPaxton]\n",
              "4807    [DrewBarrymore, BrianHerzlinger, CoreyFeldman]\n",
              "Name: cast, Length: 4808, dtype: object"
            ]
          },
          "execution_count": 26,
          "metadata": {},
          "output_type": "execute_result"
        }
      ],
      "source": [
        "# only using the first three casts\n",
        "df['cast'] = df['cast'].apply(lambda i: i[0:3])\n",
        "df['cast']"
      ]
    },
    {
      "cell_type": "markdown",
      "id": "27f207e5",
      "metadata": {
        "id": "27f207e5"
      },
      "source": [
        "- We are going to be using few of the features relevant to the solution of our problem"
      ]
    },
    {
      "cell_type": "code",
      "execution_count": null,
      "id": "2de1adaf",
      "metadata": {
        "id": "2de1adaf",
        "outputId": "e3240223-8376-4f1b-a673-d9f005bfd0c5"
      },
      "outputs": [
        {
          "data": {
            "text/html": [
              "<div>\n",
              "<style scoped>\n",
              "    .dataframe tbody tr th:only-of-type {\n",
              "        vertical-align: middle;\n",
              "    }\n",
              "\n",
              "    .dataframe tbody tr th {\n",
              "        vertical-align: top;\n",
              "    }\n",
              "\n",
              "    .dataframe thead th {\n",
              "        text-align: right;\n",
              "    }\n",
              "</style>\n",
              "<table border=\"1\" class=\"dataframe\">\n",
              "  <thead>\n",
              "    <tr style=\"text-align: right;\">\n",
              "      <th></th>\n",
              "      <th>id</th>\n",
              "      <th>title</th>\n",
              "      <th>homepage</th>\n",
              "      <th>cast</th>\n",
              "      <th>crew</th>\n",
              "      <th>overview</th>\n",
              "      <th>genres</th>\n",
              "      <th>keywords</th>\n",
              "    </tr>\n",
              "  </thead>\n",
              "  <tbody>\n",
              "    <tr>\n",
              "      <th>0</th>\n",
              "      <td>19995</td>\n",
              "      <td>Avatar</td>\n",
              "      <td>http://www.avatarmovie.com/</td>\n",
              "      <td>[SamWorthington, ZoeSaldana, SigourneyWeaver]</td>\n",
              "      <td>[JamesCameron]</td>\n",
              "      <td>In the 22nd century, a paraplegic Marine is di...</td>\n",
              "      <td>[Action, Adventure, Fantasy, ScienceFiction]</td>\n",
              "      <td>[culture clash, future, space war, space colon...</td>\n",
              "    </tr>\n",
              "    <tr>\n",
              "      <th>1</th>\n",
              "      <td>285</td>\n",
              "      <td>Pirates of the Caribbean: At World's End</td>\n",
              "      <td>http://disney.go.com/disneypictures/pirates/</td>\n",
              "      <td>[JohnnyDepp, OrlandoBloom, KeiraKnightley]</td>\n",
              "      <td>[GoreVerbinski]</td>\n",
              "      <td>Captain Barbossa, long believed to be dead, ha...</td>\n",
              "      <td>[Adventure, Fantasy, Action]</td>\n",
              "      <td>[ocean, drug abuse, exotic island, east india ...</td>\n",
              "    </tr>\n",
              "    <tr>\n",
              "      <th>2</th>\n",
              "      <td>206647</td>\n",
              "      <td>Spectre</td>\n",
              "      <td>http://www.sonypictures.com/movies/spectre/</td>\n",
              "      <td>[DanielCraig, ChristophWaltz, LéaSeydoux]</td>\n",
              "      <td>[SamMendes]</td>\n",
              "      <td>A cryptic message from Bond’s past sends him o...</td>\n",
              "      <td>[Action, Adventure, Crime]</td>\n",
              "      <td>[spy, based on novel, secret agent, sequel, mi...</td>\n",
              "    </tr>\n",
              "    <tr>\n",
              "      <th>3</th>\n",
              "      <td>49026</td>\n",
              "      <td>The Dark Knight Rises</td>\n",
              "      <td>http://www.thedarkknightrises.com/</td>\n",
              "      <td>[ChristianBale, MichaelCaine, GaryOldman]</td>\n",
              "      <td>[ChristopherNolan]</td>\n",
              "      <td>Following the death of District Attorney Harve...</td>\n",
              "      <td>[Action, Crime, Drama, Thriller]</td>\n",
              "      <td>[dc comics, crime fighter, terrorist, secret i...</td>\n",
              "    </tr>\n",
              "    <tr>\n",
              "      <th>4</th>\n",
              "      <td>49529</td>\n",
              "      <td>John Carter</td>\n",
              "      <td>http://movies.disney.com/john-carter</td>\n",
              "      <td>[TaylorKitsch, LynnCollins, SamanthaMorton]</td>\n",
              "      <td>[AndrewStanton]</td>\n",
              "      <td>John Carter is a war-weary, former military ca...</td>\n",
              "      <td>[Action, Adventure, ScienceFiction]</td>\n",
              "      <td>[based on novel, mars, medallion, space travel...</td>\n",
              "    </tr>\n",
              "  </tbody>\n",
              "</table>\n",
              "</div>"
            ],
            "text/plain": [
              "       id                                     title  \\\n",
              "0   19995                                    Avatar   \n",
              "1     285  Pirates of the Caribbean: At World's End   \n",
              "2  206647                                   Spectre   \n",
              "3   49026                     The Dark Knight Rises   \n",
              "4   49529                               John Carter   \n",
              "\n",
              "                                       homepage  \\\n",
              "0                   http://www.avatarmovie.com/   \n",
              "1  http://disney.go.com/disneypictures/pirates/   \n",
              "2   http://www.sonypictures.com/movies/spectre/   \n",
              "3            http://www.thedarkknightrises.com/   \n",
              "4          http://movies.disney.com/john-carter   \n",
              "\n",
              "                                            cast                crew  \\\n",
              "0  [SamWorthington, ZoeSaldana, SigourneyWeaver]      [JamesCameron]   \n",
              "1     [JohnnyDepp, OrlandoBloom, KeiraKnightley]     [GoreVerbinski]   \n",
              "2      [DanielCraig, ChristophWaltz, LéaSeydoux]         [SamMendes]   \n",
              "3      [ChristianBale, MichaelCaine, GaryOldman]  [ChristopherNolan]   \n",
              "4    [TaylorKitsch, LynnCollins, SamanthaMorton]     [AndrewStanton]   \n",
              "\n",
              "                                            overview  \\\n",
              "0  In the 22nd century, a paraplegic Marine is di...   \n",
              "1  Captain Barbossa, long believed to be dead, ha...   \n",
              "2  A cryptic message from Bond’s past sends him o...   \n",
              "3  Following the death of District Attorney Harve...   \n",
              "4  John Carter is a war-weary, former military ca...   \n",
              "\n",
              "                                         genres  \\\n",
              "0  [Action, Adventure, Fantasy, ScienceFiction]   \n",
              "1                  [Adventure, Fantasy, Action]   \n",
              "2                    [Action, Adventure, Crime]   \n",
              "3              [Action, Crime, Drama, Thriller]   \n",
              "4           [Action, Adventure, ScienceFiction]   \n",
              "\n",
              "                                            keywords  \n",
              "0  [culture clash, future, space war, space colon...  \n",
              "1  [ocean, drug abuse, exotic island, east india ...  \n",
              "2  [spy, based on novel, secret agent, sequel, mi...  \n",
              "3  [dc comics, crime fighter, terrorist, secret i...  \n",
              "4  [based on novel, mars, medallion, space travel...  "
            ]
          },
          "execution_count": 27,
          "metadata": {},
          "output_type": "execute_result"
        }
      ],
      "source": [
        "final_df = pd.DataFrame(df, columns=['id','title','homepage','cast','crew','overview','genres','keywords'])\n",
        "final_df.head()"
      ]
    },
    {
      "cell_type": "code",
      "execution_count": null,
      "id": "b64427fd",
      "metadata": {
        "id": "b64427fd",
        "outputId": "bb2e22a2-1d74-493e-b79b-1ecd4261301e"
      },
      "outputs": [
        {
          "data": {
            "text/plain": [
              "id             0\n",
              "title          0\n",
              "homepage    3095\n",
              "cast           0\n",
              "crew           0\n",
              "overview       3\n",
              "genres         0\n",
              "keywords       0\n",
              "dtype: int64"
            ]
          },
          "execution_count": 28,
          "metadata": {},
          "output_type": "execute_result"
        }
      ],
      "source": [
        "final_df.isnull().sum()"
      ]
    },
    {
      "cell_type": "raw",
      "id": "c2e7e04c",
      "metadata": {
        "id": "c2e7e04c"
      },
      "source": [
        "final_df['url'] = 0\n",
        "for i in range(len(url)):\n",
        "    if final_df['homepage'][i] == 0:\n",
        "        url = (\"{} + {}\".format(\"https://www.\",(\"\".join(list(final_df.loc[\"title\",url[i][0]].split())))))\n",
        "        final_df['url'][i] = url\n",
        "    else:\n",
        "        final_df['url'][i] = final_df['homepage'][i]"
      ]
    },
    {
      "cell_type": "code",
      "execution_count": null,
      "id": "83370383",
      "metadata": {
        "id": "83370383"
      },
      "outputs": [],
      "source": [
        "# converting strings into list of strings\n",
        "def split(text):\n",
        "    text = str(text).split()\n",
        "    return text"
      ]
    },
    {
      "cell_type": "code",
      "execution_count": null,
      "id": "3730f7ad",
      "metadata": {
        "id": "3730f7ad"
      },
      "outputs": [],
      "source": [
        "final_df['overview'] = final_df['overview'].apply(split)"
      ]
    },
    {
      "cell_type": "code",
      "execution_count": null,
      "id": "e9b8ad37",
      "metadata": {
        "id": "e9b8ad37"
      },
      "outputs": [],
      "source": [
        "final_df['feature'] = final_df['overview'] + final_df['genres'] + final_df['keywords'] + final_df['cast'] + final_df['crew']"
      ]
    },
    {
      "cell_type": "code",
      "execution_count": null,
      "id": "af7f26d8",
      "metadata": {
        "id": "af7f26d8"
      },
      "outputs": [],
      "source": [
        "final_df.drop(columns=['overview','genres','keywords','cast','crew'], inplace=True)"
      ]
    },
    {
      "cell_type": "code",
      "execution_count": null,
      "id": "6e0e6895",
      "metadata": {
        "id": "6e0e6895",
        "outputId": "efd85761-e4c2-4483-c713-cd847e4c0a48"
      },
      "outputs": [
        {
          "data": {
            "text/html": [
              "<div>\n",
              "<style scoped>\n",
              "    .dataframe tbody tr th:only-of-type {\n",
              "        vertical-align: middle;\n",
              "    }\n",
              "\n",
              "    .dataframe tbody tr th {\n",
              "        vertical-align: top;\n",
              "    }\n",
              "\n",
              "    .dataframe thead th {\n",
              "        text-align: right;\n",
              "    }\n",
              "</style>\n",
              "<table border=\"1\" class=\"dataframe\">\n",
              "  <thead>\n",
              "    <tr style=\"text-align: right;\">\n",
              "      <th></th>\n",
              "      <th>id</th>\n",
              "      <th>title</th>\n",
              "      <th>homepage</th>\n",
              "      <th>feature</th>\n",
              "    </tr>\n",
              "  </thead>\n",
              "  <tbody>\n",
              "    <tr>\n",
              "      <th>0</th>\n",
              "      <td>19995</td>\n",
              "      <td>Avatar</td>\n",
              "      <td>http://www.avatarmovie.com/</td>\n",
              "      <td>[In, the, 22nd, century,, a, paraplegic, Marin...</td>\n",
              "    </tr>\n",
              "    <tr>\n",
              "      <th>1</th>\n",
              "      <td>285</td>\n",
              "      <td>Pirates of the Caribbean: At World's End</td>\n",
              "      <td>http://disney.go.com/disneypictures/pirates/</td>\n",
              "      <td>[Captain, Barbossa,, long, believed, to, be, d...</td>\n",
              "    </tr>\n",
              "    <tr>\n",
              "      <th>2</th>\n",
              "      <td>206647</td>\n",
              "      <td>Spectre</td>\n",
              "      <td>http://www.sonypictures.com/movies/spectre/</td>\n",
              "      <td>[A, cryptic, message, from, Bond’s, past, send...</td>\n",
              "    </tr>\n",
              "    <tr>\n",
              "      <th>3</th>\n",
              "      <td>49026</td>\n",
              "      <td>The Dark Knight Rises</td>\n",
              "      <td>http://www.thedarkknightrises.com/</td>\n",
              "      <td>[Following, the, death, of, District, Attorney...</td>\n",
              "    </tr>\n",
              "    <tr>\n",
              "      <th>4</th>\n",
              "      <td>49529</td>\n",
              "      <td>John Carter</td>\n",
              "      <td>http://movies.disney.com/john-carter</td>\n",
              "      <td>[John, Carter, is, a, war-weary,, former, mili...</td>\n",
              "    </tr>\n",
              "  </tbody>\n",
              "</table>\n",
              "</div>"
            ],
            "text/plain": [
              "       id                                     title  \\\n",
              "0   19995                                    Avatar   \n",
              "1     285  Pirates of the Caribbean: At World's End   \n",
              "2  206647                                   Spectre   \n",
              "3   49026                     The Dark Knight Rises   \n",
              "4   49529                               John Carter   \n",
              "\n",
              "                                       homepage  \\\n",
              "0                   http://www.avatarmovie.com/   \n",
              "1  http://disney.go.com/disneypictures/pirates/   \n",
              "2   http://www.sonypictures.com/movies/spectre/   \n",
              "3            http://www.thedarkknightrises.com/   \n",
              "4          http://movies.disney.com/john-carter   \n",
              "\n",
              "                                             feature  \n",
              "0  [In, the, 22nd, century,, a, paraplegic, Marin...  \n",
              "1  [Captain, Barbossa,, long, believed, to, be, d...  \n",
              "2  [A, cryptic, message, from, Bond’s, past, send...  \n",
              "3  [Following, the, death, of, District, Attorney...  \n",
              "4  [John, Carter, is, a, war-weary,, former, mili...  "
            ]
          },
          "execution_count": 33,
          "metadata": {},
          "output_type": "execute_result"
        }
      ],
      "source": [
        "final_df.head()"
      ]
    },
    {
      "cell_type": "code",
      "execution_count": null,
      "id": "f31d4deb",
      "metadata": {
        "id": "f31d4deb"
      },
      "outputs": [],
      "source": [
        "# convert the feature column to lower case\n",
        "def lower(x):\n",
        "    list = []\n",
        "    for i in x:\n",
        "        list.append(i.lower())\n",
        "    return list"
      ]
    },
    {
      "cell_type": "code",
      "execution_count": null,
      "id": "594cfda4",
      "metadata": {
        "id": "594cfda4"
      },
      "outputs": [],
      "source": [
        "final_df['feature'] = final_df['feature'].apply(lower)"
      ]
    },
    {
      "cell_type": "code",
      "execution_count": null,
      "id": "41f1a674",
      "metadata": {
        "id": "41f1a674",
        "outputId": "7148ec4d-3968-44c8-f76b-5e6ee2ec8f59"
      },
      "outputs": [
        {
          "data": {
            "text/html": [
              "<div>\n",
              "<style scoped>\n",
              "    .dataframe tbody tr th:only-of-type {\n",
              "        vertical-align: middle;\n",
              "    }\n",
              "\n",
              "    .dataframe tbody tr th {\n",
              "        vertical-align: top;\n",
              "    }\n",
              "\n",
              "    .dataframe thead th {\n",
              "        text-align: right;\n",
              "    }\n",
              "</style>\n",
              "<table border=\"1\" class=\"dataframe\">\n",
              "  <thead>\n",
              "    <tr style=\"text-align: right;\">\n",
              "      <th></th>\n",
              "      <th>id</th>\n",
              "      <th>title</th>\n",
              "      <th>homepage</th>\n",
              "      <th>feature</th>\n",
              "    </tr>\n",
              "  </thead>\n",
              "  <tbody>\n",
              "    <tr>\n",
              "      <th>0</th>\n",
              "      <td>19995</td>\n",
              "      <td>Avatar</td>\n",
              "      <td>http://www.avatarmovie.com/</td>\n",
              "      <td>[in, the, 22nd, century,, a, paraplegic, marin...</td>\n",
              "    </tr>\n",
              "    <tr>\n",
              "      <th>1</th>\n",
              "      <td>285</td>\n",
              "      <td>Pirates of the Caribbean: At World's End</td>\n",
              "      <td>http://disney.go.com/disneypictures/pirates/</td>\n",
              "      <td>[captain, barbossa,, long, believed, to, be, d...</td>\n",
              "    </tr>\n",
              "    <tr>\n",
              "      <th>2</th>\n",
              "      <td>206647</td>\n",
              "      <td>Spectre</td>\n",
              "      <td>http://www.sonypictures.com/movies/spectre/</td>\n",
              "      <td>[a, cryptic, message, from, bond’s, past, send...</td>\n",
              "    </tr>\n",
              "    <tr>\n",
              "      <th>3</th>\n",
              "      <td>49026</td>\n",
              "      <td>The Dark Knight Rises</td>\n",
              "      <td>http://www.thedarkknightrises.com/</td>\n",
              "      <td>[following, the, death, of, district, attorney...</td>\n",
              "    </tr>\n",
              "    <tr>\n",
              "      <th>4</th>\n",
              "      <td>49529</td>\n",
              "      <td>John Carter</td>\n",
              "      <td>http://movies.disney.com/john-carter</td>\n",
              "      <td>[john, carter, is, a, war-weary,, former, mili...</td>\n",
              "    </tr>\n",
              "    <tr>\n",
              "      <th>...</th>\n",
              "      <td>...</td>\n",
              "      <td>...</td>\n",
              "      <td>...</td>\n",
              "      <td>...</td>\n",
              "    </tr>\n",
              "    <tr>\n",
              "      <th>4803</th>\n",
              "      <td>9367</td>\n",
              "      <td>El Mariachi</td>\n",
              "      <td>NaN</td>\n",
              "      <td>[el, mariachi, just, wants, to, play, his, gui...</td>\n",
              "    </tr>\n",
              "    <tr>\n",
              "      <th>4804</th>\n",
              "      <td>72766</td>\n",
              "      <td>Newlyweds</td>\n",
              "      <td>NaN</td>\n",
              "      <td>[a, newlywed, couple's, honeymoon, is, upended...</td>\n",
              "    </tr>\n",
              "    <tr>\n",
              "      <th>4805</th>\n",
              "      <td>231617</td>\n",
              "      <td>Signed, Sealed, Delivered</td>\n",
              "      <td>http://www.hallmarkchannel.com/signedsealeddel...</td>\n",
              "      <td>[\"signed,, sealed,, delivered\", introduces, a,...</td>\n",
              "    </tr>\n",
              "    <tr>\n",
              "      <th>4806</th>\n",
              "      <td>126186</td>\n",
              "      <td>Shanghai Calling</td>\n",
              "      <td>http://shanghaicalling.com/</td>\n",
              "      <td>[when, ambitious, new, york, attorney, sam, is...</td>\n",
              "    </tr>\n",
              "    <tr>\n",
              "      <th>4807</th>\n",
              "      <td>25975</td>\n",
              "      <td>My Date with Drew</td>\n",
              "      <td>NaN</td>\n",
              "      <td>[ever, since, the, second, grade, when, he, fi...</td>\n",
              "    </tr>\n",
              "  </tbody>\n",
              "</table>\n",
              "<p>4808 rows × 4 columns</p>\n",
              "</div>"
            ],
            "text/plain": [
              "          id                                     title  \\\n",
              "0      19995                                    Avatar   \n",
              "1        285  Pirates of the Caribbean: At World's End   \n",
              "2     206647                                   Spectre   \n",
              "3      49026                     The Dark Knight Rises   \n",
              "4      49529                               John Carter   \n",
              "...      ...                                       ...   \n",
              "4803    9367                               El Mariachi   \n",
              "4804   72766                                 Newlyweds   \n",
              "4805  231617                 Signed, Sealed, Delivered   \n",
              "4806  126186                          Shanghai Calling   \n",
              "4807   25975                         My Date with Drew   \n",
              "\n",
              "                                               homepage  \\\n",
              "0                           http://www.avatarmovie.com/   \n",
              "1          http://disney.go.com/disneypictures/pirates/   \n",
              "2           http://www.sonypictures.com/movies/spectre/   \n",
              "3                    http://www.thedarkknightrises.com/   \n",
              "4                  http://movies.disney.com/john-carter   \n",
              "...                                                 ...   \n",
              "4803                                                NaN   \n",
              "4804                                                NaN   \n",
              "4805  http://www.hallmarkchannel.com/signedsealeddel...   \n",
              "4806                        http://shanghaicalling.com/   \n",
              "4807                                                NaN   \n",
              "\n",
              "                                                feature  \n",
              "0     [in, the, 22nd, century,, a, paraplegic, marin...  \n",
              "1     [captain, barbossa,, long, believed, to, be, d...  \n",
              "2     [a, cryptic, message, from, bond’s, past, send...  \n",
              "3     [following, the, death, of, district, attorney...  \n",
              "4     [john, carter, is, a, war-weary,, former, mili...  \n",
              "...                                                 ...  \n",
              "4803  [el, mariachi, just, wants, to, play, his, gui...  \n",
              "4804  [a, newlywed, couple's, honeymoon, is, upended...  \n",
              "4805  [\"signed,, sealed,, delivered\", introduces, a,...  \n",
              "4806  [when, ambitious, new, york, attorney, sam, is...  \n",
              "4807  [ever, since, the, second, grade, when, he, fi...  \n",
              "\n",
              "[4808 rows x 4 columns]"
            ]
          },
          "execution_count": 36,
          "metadata": {},
          "output_type": "execute_result"
        }
      ],
      "source": [
        "final_df"
      ]
    },
    {
      "cell_type": "code",
      "execution_count": null,
      "id": "91563880",
      "metadata": {
        "scrolled": true,
        "id": "91563880",
        "outputId": "cdf47459-9b76-4c37-80fd-5a1e9153dd58"
      },
      "outputs": [
        {
          "name": "stdout",
          "output_type": "stream",
          "text": [
            "Requirement already satisfied: nltk in c:\\users\\asus\\anaconda3\\lib\\site-packages (3.7)\n",
            "Requirement already satisfied: regex>=2021.8.3 in c:\\users\\asus\\anaconda3\\lib\\site-packages (from nltk) (2022.3.15)\n",
            "Requirement already satisfied: click in c:\\users\\asus\\anaconda3\\lib\\site-packages (from nltk) (8.0.4)\n",
            "Requirement already satisfied: tqdm in c:\\users\\asus\\anaconda3\\lib\\site-packages (from nltk) (4.63.0)\n",
            "Requirement already satisfied: joblib in c:\\users\\asus\\anaconda3\\lib\\site-packages (from nltk) (1.1.0)\n",
            "Requirement already satisfied: colorama in c:\\users\\asus\\anaconda3\\lib\\site-packages (from click->nltk) (0.4.4)\n",
            "Note: you may need to restart the kernel to use updated packages.\n"
          ]
        }
      ],
      "source": [
        "pip install nltk"
      ]
    },
    {
      "cell_type": "code",
      "execution_count": null,
      "id": "1635e6e1",
      "metadata": {
        "id": "1635e6e1"
      },
      "outputs": [],
      "source": [
        "import nltk\n",
        "from nltk.stem.porter import PorterStemmer\n",
        "porter = PorterStemmer()"
      ]
    },
    {
      "cell_type": "code",
      "execution_count": null,
      "id": "1ab9aa39",
      "metadata": {
        "id": "1ab9aa39"
      },
      "outputs": [],
      "source": [
        "def stem(text):\n",
        "    list = []\n",
        "    for i in text:\n",
        "        list.append(porter.stem(i))\n",
        "    return list "
      ]
    },
    {
      "cell_type": "code",
      "execution_count": null,
      "id": "23f3356a",
      "metadata": {
        "id": "23f3356a"
      },
      "outputs": [],
      "source": [
        "final_df['feature'] = final_df['feature'].apply(stem)"
      ]
    },
    {
      "cell_type": "code",
      "execution_count": null,
      "id": "c9378fb1",
      "metadata": {
        "id": "c9378fb1",
        "outputId": "c914a541-a199-4e67-ac0b-dfbff2e07dc2"
      },
      "outputs": [
        {
          "data": {
            "text/html": [
              "<div>\n",
              "<style scoped>\n",
              "    .dataframe tbody tr th:only-of-type {\n",
              "        vertical-align: middle;\n",
              "    }\n",
              "\n",
              "    .dataframe tbody tr th {\n",
              "        vertical-align: top;\n",
              "    }\n",
              "\n",
              "    .dataframe thead th {\n",
              "        text-align: right;\n",
              "    }\n",
              "</style>\n",
              "<table border=\"1\" class=\"dataframe\">\n",
              "  <thead>\n",
              "    <tr style=\"text-align: right;\">\n",
              "      <th></th>\n",
              "      <th>id</th>\n",
              "      <th>title</th>\n",
              "      <th>homepage</th>\n",
              "      <th>feature</th>\n",
              "    </tr>\n",
              "  </thead>\n",
              "  <tbody>\n",
              "    <tr>\n",
              "      <th>3932</th>\n",
              "      <td>28005</td>\n",
              "      <td>Kama Sutra - A Tale of Love</td>\n",
              "      <td>NaN</td>\n",
              "      <td>[tara, and, maya, are, two, insepar, friend, i...</td>\n",
              "    </tr>\n",
              "    <tr>\n",
              "      <th>3768</th>\n",
              "      <td>6537</td>\n",
              "      <td>The Orphanage</td>\n",
              "      <td>NaN</td>\n",
              "      <td>[a, woman, bring, her, famili, back, to, her, ...</td>\n",
              "    </tr>\n",
              "    <tr>\n",
              "      <th>614</th>\n",
              "      <td>20352</td>\n",
              "      <td>Despicable Me</td>\n",
              "      <td>http://www.despicable.me/</td>\n",
              "      <td>[villain, gru, live, up, to, hi, reput, as, a,...</td>\n",
              "    </tr>\n",
              "    <tr>\n",
              "      <th>2425</th>\n",
              "      <td>228203</td>\n",
              "      <td>McFarland, USA</td>\n",
              "      <td>NaN</td>\n",
              "      <td>[a, track, coach, in, a, small, california, to...</td>\n",
              "    </tr>\n",
              "    <tr>\n",
              "      <th>3189</th>\n",
              "      <td>10179</td>\n",
              "      <td>The Ice Pirates</td>\n",
              "      <td>NaN</td>\n",
              "      <td>[the, time, is, the, distant, future,, where, ...</td>\n",
              "    </tr>\n",
              "  </tbody>\n",
              "</table>\n",
              "</div>"
            ],
            "text/plain": [
              "          id                        title                   homepage  \\\n",
              "3932   28005  Kama Sutra - A Tale of Love                        NaN   \n",
              "3768    6537                The Orphanage                        NaN   \n",
              "614    20352                Despicable Me  http://www.despicable.me/   \n",
              "2425  228203               McFarland, USA                        NaN   \n",
              "3189   10179              The Ice Pirates                        NaN   \n",
              "\n",
              "                                                feature  \n",
              "3932  [tara, and, maya, are, two, insepar, friend, i...  \n",
              "3768  [a, woman, bring, her, famili, back, to, her, ...  \n",
              "614   [villain, gru, live, up, to, hi, reput, as, a,...  \n",
              "2425  [a, track, coach, in, a, small, california, to...  \n",
              "3189  [the, time, is, the, distant, future,, where, ...  "
            ]
          },
          "execution_count": 41,
          "metadata": {},
          "output_type": "execute_result"
        }
      ],
      "source": [
        "final_df.sample(5)"
      ]
    },
    {
      "cell_type": "code",
      "execution_count": null,
      "id": "84ad3bee",
      "metadata": {
        "id": "84ad3bee"
      },
      "outputs": [],
      "source": [
        "# removing the spaces\n",
        "final_df['feature'] = final_df['feature'].apply(remove_whitespace)"
      ]
    },
    {
      "cell_type": "code",
      "execution_count": null,
      "id": "73b7bbf4",
      "metadata": {
        "id": "73b7bbf4",
        "outputId": "ff76289b-2b3c-4299-8925-cc91674d3620"
      },
      "outputs": [
        {
          "data": {
            "text/plain": [
              "0    [in, the, 22nd, century,, a, parapleg, marin, ...\n",
              "1    [captain, barbossa,, long, believ, to, be, dea...\n",
              "2    [a, cryptic, messag, from, bond’, past, send, ...\n",
              "3    [follow, the, death, of, district, attorney, h...\n",
              "4    [john, carter, is, a, war-weary,, former, mili...\n",
              "Name: feature, dtype: object"
            ]
          },
          "execution_count": 43,
          "metadata": {},
          "output_type": "execute_result"
        }
      ],
      "source": [
        "final_df['feature'].head()"
      ]
    },
    {
      "cell_type": "code",
      "execution_count": null,
      "id": "5c666aaf",
      "metadata": {
        "id": "5c666aaf"
      },
      "outputs": [],
      "source": [
        "final_df['feature'] = final_df['feature'].apply(lambda x: \" \".join(x))"
      ]
    },
    {
      "cell_type": "code",
      "execution_count": null,
      "id": "8dee639b",
      "metadata": {
        "id": "8dee639b",
        "outputId": "409eeb50-5d4a-4d61-cd66-89feacbbff8f"
      },
      "outputs": [
        {
          "data": {
            "text/plain": [
              "0    in the 22nd century, a parapleg marin is dispa...\n",
              "1    captain barbossa, long believ to be dead, ha c...\n",
              "2    a cryptic messag from bond’ past send him on a...\n",
              "3    follow the death of district attorney harvey d...\n",
              "4    john carter is a war-weary, former militari ca...\n",
              "Name: feature, dtype: object"
            ]
          },
          "execution_count": 45,
          "metadata": {},
          "output_type": "execute_result"
        }
      ],
      "source": [
        "final_df['feature'].head()"
      ]
    },
    {
      "cell_type": "markdown",
      "id": "7c195611",
      "metadata": {
        "id": "7c195611"
      },
      "source": [
        "### Vectorization"
      ]
    },
    {
      "cell_type": "code",
      "execution_count": null,
      "id": "990f38da",
      "metadata": {
        "id": "990f38da"
      },
      "outputs": [],
      "source": [
        "# creating a count vectorizer object\n",
        "cv = CountVectorizer(stop_words='english')"
      ]
    },
    {
      "cell_type": "code",
      "execution_count": null,
      "id": "c974bc4d",
      "metadata": {
        "id": "c974bc4d"
      },
      "outputs": [],
      "source": [
        "# creating a data matrix from the overviews\n",
        "X = cv.fit_transform(final_df['feature']).toarray()"
      ]
    },
    {
      "cell_type": "code",
      "execution_count": null,
      "id": "cec6c13c",
      "metadata": {
        "id": "cec6c13c",
        "outputId": "f1c8c70b-83ac-4d91-e1e2-fd0dbe5eee5a"
      },
      "outputs": [
        {
          "data": {
            "text/plain": [
              "array([[0, 0, 0, ..., 0, 0, 0],\n",
              "       [0, 0, 0, ..., 0, 0, 0],\n",
              "       [0, 0, 0, ..., 0, 0, 0],\n",
              "       ...,\n",
              "       [0, 0, 0, ..., 0, 0, 0],\n",
              "       [0, 0, 0, ..., 0, 0, 0],\n",
              "       [0, 0, 0, ..., 0, 0, 0]], dtype=int64)"
            ]
          },
          "execution_count": 48,
          "metadata": {},
          "output_type": "execute_result"
        }
      ],
      "source": [
        "X"
      ]
    },
    {
      "cell_type": "code",
      "execution_count": null,
      "id": "bb920a62",
      "metadata": {
        "id": "bb920a62",
        "outputId": "687d0cdf-4e2e-462e-9ad4-4e178e47aaa9"
      },
      "outputs": [
        {
          "data": {
            "text/plain": [
              "array([[1.        , 0.06776309, 0.06862635, ..., 0.03571429, 0.        ,\n",
              "        0.        ],\n",
              "       [0.06776309, 1.        , 0.05063697, ..., 0.01976424, 0.        ,\n",
              "        0.0209427 ],\n",
              "       [0.06862635, 0.05063697, 1.        , ..., 0.02001602, 0.        ,\n",
              "        0.        ],\n",
              "       ...,\n",
              "       [0.03571429, 0.01976424, 0.02001602, ..., 1.        , 0.03311331,\n",
              "        0.03311331],\n",
              "       [0.        , 0.        , 0.        , ..., 0.03311331, 1.        ,\n",
              "        0.07017544],\n",
              "       [0.        , 0.0209427 , 0.        , ..., 0.03311331, 0.07017544,\n",
              "        1.        ]])"
            ]
          },
          "execution_count": 49,
          "metadata": {},
          "output_type": "execute_result"
        }
      ],
      "source": [
        "scores = cosine_similarity(X)\n",
        "scores"
      ]
    },
    {
      "cell_type": "code",
      "execution_count": null,
      "id": "58a34f45",
      "metadata": {
        "id": "58a34f45",
        "outputId": "c28c2893-3f57-405f-82d0-237f5dbd2edd"
      },
      "outputs": [
        {
          "data": {
            "text/plain": [
              "0"
            ]
          },
          "execution_count": 50,
          "metadata": {},
          "output_type": "execute_result"
        }
      ],
      "source": [
        "final_df[final_df['title'] == 'Avatar'].index[0]"
      ]
    },
    {
      "cell_type": "code",
      "execution_count": null,
      "id": "dfb694c0",
      "metadata": {
        "id": "dfb694c0"
      },
      "outputs": [],
      "source": [
        "def recommend_movie(movie):\n",
        "    index = final_df[final_df['title'] == movie].index[0]\n",
        "    distance = sorted(list(enumerate(scores[index])),reverse=True,key=lambda i: i[1])\n",
        "    for i in distance[1:9]:\n",
        "        print('{} {}'.format(final_df.iloc[i[0]].title, final_df.iloc[i[0]].homepage))"
      ]
    },
    {
      "cell_type": "code",
      "execution_count": null,
      "id": "7d047502",
      "metadata": {
        "id": "7d047502",
        "outputId": "96940388-180e-40f0-a348-36ed169d0eee"
      },
      "outputs": [
        {
          "name": "stdout",
          "output_type": "stream",
          "text": [
            "Aliens nan\n",
            "Aliens vs Predator: Requiem http://www.avp-r.com/\n",
            "Titan A.E. nan\n",
            "Independence Day nan\n",
            "Battle: Los Angeles http://www.battlela.com\n",
            "Meet Dave http://www.meetdavemovie.com/\n",
            "Predators nan\n",
            "Falcon Rising nan\n"
          ]
        }
      ],
      "source": [
        "recommend_movie(\"Avatar\")"
      ]
    },
    {
      "cell_type": "code",
      "execution_count": null,
      "id": "2e46a4c1",
      "metadata": {
        "id": "2e46a4c1",
        "outputId": "a1dc813e-d194-42fa-a525-a78d043017b0"
      },
      "outputs": [
        {
          "name": "stdout",
          "output_type": "stream",
          "text": [
            "Scream nan\n",
            "Scream 2 nan\n",
            "Mirrors nan\n",
            "Sorority Row nan\n",
            "Scream 4 http://www.scream-4.com/\n",
            "Disaster Movie http://www.disastermovie.net/\n",
            "Friday the 13th: A New Beginning nan\n",
            "Halloween 4: The Return of Michael Myers nan\n"
          ]
        }
      ],
      "source": [
        "recommend_movie('Scream 3')"
      ]
    },
    {
      "cell_type": "code",
      "execution_count": null,
      "id": "98c46e9c",
      "metadata": {
        "id": "98c46e9c",
        "outputId": "1d5f0d38-4ba2-41f8-ddc3-2509b80f59a0"
      },
      "outputs": [
        {
          "name": "stdout",
          "output_type": "stream",
          "text": [
            "Batman nan\n",
            "Batman & Robin nan\n",
            "The R.M. http://www.halestormentertainment.com/p_movies_details.asp?mID=jnlppmp8\n",
            "Batman Begins http://www2.warnerbros.com/batmanbegins/index.html\n",
            "Batman Returns nan\n",
            "The Dark Knight http://thedarkknight.warnerbros.com/dvdsite/\n",
            "The Dark Knight Rises http://www.thedarkknightrises.com/\n",
            "Code of Honor nan\n"
          ]
        }
      ],
      "source": [
        "recommend_movie('Batman')"
      ]
    },
    {
      "cell_type": "code",
      "execution_count": null,
      "id": "dd5b2f44",
      "metadata": {
        "id": "dd5b2f44"
      },
      "outputs": [],
      "source": []
    }
  ],
  "metadata": {
    "kernelspec": {
      "display_name": "Python 3 (ipykernel)",
      "language": "python",
      "name": "python3"
    },
    "language_info": {
      "codemirror_mode": {
        "name": "ipython",
        "version": 3
      },
      "file_extension": ".py",
      "mimetype": "text/x-python",
      "name": "python",
      "nbconvert_exporter": "python",
      "pygments_lexer": "ipython3",
      "version": "3.8.2"
    },
    "colab": {
      "provenance": [],
      "toc_visible": true,
      "include_colab_link": true
    }
  },
  "nbformat": 4,
  "nbformat_minor": 5
}